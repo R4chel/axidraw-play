{
 "cells": [
  {
   "cell_type": "code",
   "execution_count": 93,
   "id": "86f10650-a888-4935-a76f-5d77afcb0cef",
   "metadata": {},
   "outputs": [],
   "source": [
    "import drawSvg as draw\n",
    "import random\n",
    "import math\n",
    "from svgpathtools import Path, Line, QuadraticBezier, CubicBezier, Arc, bezier\n",
    "from numpy.polynomial import Polynomial\n",
    "import svgpathtools as spt\n",
    "import numpy as np\n"
   ]
  },
  {
   "cell_type": "code",
   "execution_count": 94,
   "id": "de18f8ba-32a6-406c-826c-9ada78cb890a",
   "metadata": {},
   "outputs": [],
   "source": [
    "xMax= 250\n",
    "yMax = 250\n"
   ]
  },
  {
   "cell_type": "code",
   "execution_count": 95,
   "id": "34c2610c-bf6b-472f-ba1b-52cad5358aaa",
   "metadata": {},
   "outputs": [],
   "source": [
    "def randomX():\n",
    "    return random.randrange(-1*xMax,xMax)\n",
    "def randomY():\n",
    "    return random.randrange(-1*yMax,yMax)"
   ]
  },
  {
   "cell_type": "code",
   "execution_count": 96,
   "id": "80f91a21-42eb-4260-a35b-fffd2a6bdb56",
   "metadata": {},
   "outputs": [],
   "source": [
    "fixed_roots = [randomX() for _ in range(2)]"
   ]
  },
  {
   "cell_type": "code",
   "execution_count": 97,
   "id": "3d4ca836-c39a-479b-a492-fccf9f445009",
   "metadata": {},
   "outputs": [],
   "source": [
    "mutable_roots = [randomX() for _ in range(1)]"
   ]
  },
  {
   "cell_type": "code",
   "execution_count": 98,
   "id": "062793ac-c482-4f63-b6ee-79274c9a4226",
   "metadata": {},
   "outputs": [],
   "source": [
    "p = Polynomial.fromroots(fixed_roots+mutable_roots)"
   ]
  },
  {
   "cell_type": "code",
   "execution_count": 99,
   "id": "f6b16587-e69b-4f5e-b985-b4a49585006f",
   "metadata": {},
   "outputs": [],
   "source": [
    "r = np.poly(fixed_roots+mutable_roots) \n",
    "p = np.poly1d(r)"
   ]
  },
  {
   "cell_type": "code",
   "execution_count": 100,
   "id": "bc75f525-7902-4f7c-9adf-0f98e0447c72",
   "metadata": {},
   "outputs": [],
   "source": [
    "b = bezier.polynomial2bezier(p)"
   ]
  },
  {
   "cell_type": "code",
   "execution_count": 103,
   "id": "ccb3aa57-efb3-4d0d-b2b3-2cfd4943e23b",
   "metadata": {},
   "outputs": [
    {
     "data": {
      "text/plain": [
       "(2588544.0, 2574528.6666666665, 2560500.3333333335, 2546460.0)"
      ]
     },
     "execution_count": 103,
     "metadata": {},
     "output_type": "execute_result"
    }
   ],
   "source": [
    "b"
   ]
  },
  {
   "cell_type": "code",
   "execution_count": null,
   "id": "239b71ce-69d8-4236-838b-6f1f34e77ead",
   "metadata": {},
   "outputs": [],
   "source": []
  },
  {
   "cell_type": "code",
   "execution_count": 102,
   "id": "f7530d9a-342b-4290-8bea-f0dcc23ec4dd",
   "metadata": {},
   "outputs": [
    {
     "data": {
      "text/plain": [
       "<module 'drawSvg' from '/opt/homebrew/lib/python3.9/site-packages/drawSvg/__init__.py'>"
      ]
     },
     "execution_count": 102,
     "metadata": {},
     "output_type": "execute_result"
    }
   ],
   "source": [
    "draw"
   ]
  },
  {
   "cell_type": "code",
   "execution_count": 127,
   "id": "2a1fd682-4738-438b-988a-7d795e5d9c45",
   "metadata": {},
   "outputs": [],
   "source": [
    "d = draw.Drawing(xMax*2, yMax*2, origin='center')\n"
   ]
  },
  {
   "cell_type": "code",
   "execution_count": 128,
   "id": "045f80be-49a7-4993-9642-77eedc6d069b",
   "metadata": {},
   "outputs": [],
   "source": [
    "p = draw.Path(stroke_width=2, stroke='black', fill='none', fill_opacity=0.5)\n",
    "p.M(-30,5)  # Start path at point (-30, 5)\n",
    "p.l(60,30)  # Draw line to (60, 30)\n",
    "p.h(-70)    # Draw horizontal line to x=-70\n",
    "p.Z()       # Draw line to start\n",
    "d.append(p)\n",
    "    \n",
    "d.append(draw.ArcLine(60,-20,20,60,270,\n",
    "                    stroke='black', stroke_width=5, fill='none', fill_opacity=0.2))\n",
    "d.append(draw.Arc(60,-20,20,60,270,cw=False,\n",
    "                    stroke='black', stroke_width=3, fill='none'))\n",
    "d.append(draw.Arc(60,-20,20,270,60,cw=True,\n",
    "                    stroke='black', stroke_width=1, fill='none', fill_opacity=0.3))"
   ]
  },
  {
   "cell_type": "code",
   "execution_count": null,
   "id": "1f112c66-a17f-4424-890b-060b302125c2",
   "metadata": {},
   "outputs": [],
   "source": []
  },
  {
   "cell_type": "code",
   "execution_count": null,
   "id": "da185063-b47d-4f2d-8028-f1dc63b956e4",
   "metadata": {},
   "outputs": [],
   "source": []
  },
  {
   "cell_type": "code",
   "execution_count": 129,
   "id": "4669a388-d204-48cd-bf6f-b57202b2293e",
   "metadata": {},
   "outputs": [
    {
     "data": {
      "image/svg+xml": [
       "<?xml version=\"1.0\" encoding=\"UTF-8\"?>\n",
       "<svg xmlns=\"http://www.w3.org/2000/svg\" xmlns:xlink=\"http://www.w3.org/1999/xlink\"\n",
       "     width=\"500\" height=\"500\" viewBox=\"-250.0 -250.0 500 500\">\n",
       "<defs>\n",
       "</defs>\n",
       "<path d=\"M-30,-5 l60,-30 h-70 Z\" stroke-width=\"2\" stroke=\"black\" fill=\"none\" fill-opacity=\"0.5\" />\n",
       "<circle cx=\"60\" cy=\"20\" r=\"20\" stroke-dasharray=\"73.30382858376184 52.35987755982988\" stroke-dashoffset=\"-31.41592653589793\" stroke=\"black\" stroke-width=\"5\" fill=\"none\" fill-opacity=\"0.2\" />\n",
       "<path d=\"M70.0,2.679491924311229 A20,20,0,1,0,59.99999999999999,40.0\" stroke=\"black\" stroke-width=\"3\" fill=\"none\" />\n",
       "<path d=\"M59.99999999999999,40.0 A20,20,0,1,1,70.0,2.679491924311229\" stroke=\"black\" stroke-width=\"1\" fill=\"none\" fill-opacity=\"0.3\" />\n",
       "</svg>"
      ],
      "text/plain": [
       "<drawSvg.drawing.Drawing at 0x10f721340>"
      ]
     },
     "execution_count": 129,
     "metadata": {},
     "output_type": "execute_result"
    }
   ],
   "source": [
    "# Display in Jupyter notebook\n",
    "d.rasterize()  # Display as PNG\n",
    "d  # Display as SVG"
   ]
  },
  {
   "cell_type": "code",
   "execution_count": 131,
   "id": "ddcfbc07-b47f-4eb2-82ee-60a274243495",
   "metadata": {},
   "outputs": [],
   "source": [
    "d.saveSvg('curves.svg')"
   ]
  },
  {
   "cell_type": "code",
   "execution_count": null,
   "id": "f878c01e-af89-4500-9c20-970bba9bcb86",
   "metadata": {},
   "outputs": [],
   "source": []
  },
  {
   "cell_type": "code",
   "execution_count": 119,
   "id": "91d33c39-b533-4d88-a09f-54e1be46423e",
   "metadata": {},
   "outputs": [
    {
     "name": "stdout",
     "output_type": "stream",
     "text": [
      "Help on package drawSvg:\n",
      "\n",
      "NAME\n",
      "    drawSvg\n",
      "\n",
      "DESCRIPTION\n",
      "    A library for creating SVG files or just drawings that can be displayed in\n",
      "    iPython notebooks\n",
      "    \n",
      "    Example:\n",
      "    ```\n",
      "        d = draw.Drawing(200, 100, origin='center')\n",
      "    \n",
      "        d.append(draw.Lines(-80, -45,\n",
      "                            70, -49,\n",
      "                            95, 49,\n",
      "                            -90, 40,\n",
      "                            close=False,\n",
      "                    fill='#eeee00',\n",
      "                    stroke='black'))\n",
      "    \n",
      "        d.append(draw.Rectangle(0,0,40,50, fill='#1248ff'))\n",
      "        d.append(draw.Circle(-40, -10, 30,\n",
      "                    fill='red', stroke_width=2, stroke='black'))\n",
      "    \n",
      "        p = draw.Path(stroke_width=2, stroke='green',\n",
      "                      fill='black', fill_opacity=0.5)\n",
      "        p.M(-30,5)  # Start path at point (-30, 5)\n",
      "        p.l(60,30)  # Draw line to (60, 30)\n",
      "        p.h(-70)    # Draw horizontal line to x=-70\n",
      "        p.Z()       # Draw line to start\n",
      "        d.append(p)\n",
      "    \n",
      "        d.append(draw.ArcLine(60,-20,20,60,270,\n",
      "                    stroke='red', stroke_width=5, fill='red', fill_opacity=0.2))\n",
      "        d.append(draw.Arc(60,-20,20,60,270,cw=False,\n",
      "                    stroke='green', stroke_width=3, fill='none'))\n",
      "        d.append(draw.Arc(60,-20,20,270,60,cw=True,\n",
      "                    stroke='blue', stroke_width=1, fill='black', fill_opacity=0.3))\n",
      "    \n",
      "        d.setPixelScale(2)  # Set number of pixels per geometry unit\n",
      "        #d.setRenderSize(400,200)  # Alternative to setPixelScale\n",
      "        d.saveSvg('example.svg')\n",
      "        d.savePng('example.png')\n",
      "    \n",
      "        # Display in iPython notebook\n",
      "        d.rasterize()  # Display as PNG\n",
      "        d  # Display as SVG\n",
      "    ```\n",
      "\n",
      "PACKAGE CONTENTS\n",
      "    animation\n",
      "    color\n",
      "    defs\n",
      "    drawing\n",
      "    elements\n",
      "    missing\n",
      "    raster\n",
      "    video\n",
      "    widgets (package)\n",
      "\n",
      "SUBMODULES\n",
      "    elementsModule\n",
      "\n",
      "FUNCTIONS\n",
      "    registerElement(name, elem)\n",
      "\n",
      "DATA\n",
      "    elementsDir = ['Animate', 'AnimateMotion', 'AnimateTransform', 'Arc', ...\n",
      "    k = '__spec__'\n",
      "\n",
      "FILE\n",
      "    /opt/homebrew/lib/python3.9/site-packages/drawSvg/__init__.py\n",
      "\n",
      "\n"
     ]
    }
   ],
   "source": [
    "help(draw)"
   ]
  },
  {
   "cell_type": "code",
   "execution_count": null,
   "id": "f6c200bc-ab88-444a-9f8b-2303b6ee6b90",
   "metadata": {},
   "outputs": [],
   "source": []
  },
  {
   "cell_type": "code",
   "execution_count": 87,
   "id": "452ab9e0-6b70-48bf-be25-05846fffbd25",
   "metadata": {},
   "outputs": [
    {
     "ename": "TypeError",
     "evalue": "C() missing 3 required positional arguments: 'cy2', 'ex', and 'ey'",
     "output_type": "error",
     "traceback": [
      "\u001b[0;31m---------------------------------------------------------------------------\u001b[0m",
      "\u001b[0;31mTypeError\u001b[0m                                 Traceback (most recent call last)",
      "\u001b[0;32m/var/folders/9r/_wm4x5js1nz0l5f3p4szvw300000gn/T/ipykernel_35709/828283603.py\u001b[0m in \u001b[0;36m<module>\u001b[0;34m\u001b[0m\n\u001b[0;32m----> 1\u001b[0;31m \u001b[0mdraw\u001b[0m\u001b[0;34m.\u001b[0m\u001b[0mPath\u001b[0m\u001b[0;34m.\u001b[0m\u001b[0mC\u001b[0m\u001b[0;34m(\u001b[0m\u001b[0;36m0\u001b[0m\u001b[0;34m,\u001b[0m\u001b[0;36m0\u001b[0m\u001b[0;34m,\u001b[0m\u001b[0;36m10\u001b[0m\u001b[0;34m,\u001b[0m\u001b[0;36m10\u001b[0m\u001b[0;34m)\u001b[0m\u001b[0;34m\u001b[0m\u001b[0;34m\u001b[0m\u001b[0m\n\u001b[0m",
      "\u001b[0;31mTypeError\u001b[0m: C() missing 3 required positional arguments: 'cy2', 'ex', and 'ey'"
     ]
    }
   ],
   "source": [
    "draw.Path.C(0,0,10,10)"
   ]
  },
  {
   "cell_type": "code",
   "execution_count": null,
   "id": "92510551-a16d-4399-a04b-77fdfd646b15",
   "metadata": {},
   "outputs": [],
   "source": []
  }
 ],
 "metadata": {
  "kernelspec": {
   "display_name": "Python 3 (ipykernel)",
   "language": "python",
   "name": "python3"
  },
  "language_info": {
   "codemirror_mode": {
    "name": "ipython",
    "version": 3
   },
   "file_extension": ".py",
   "mimetype": "text/x-python",
   "name": "python",
   "nbconvert_exporter": "python",
   "pygments_lexer": "ipython3",
   "version": "3.9.10"
  }
 },
 "nbformat": 4,
 "nbformat_minor": 5
}
