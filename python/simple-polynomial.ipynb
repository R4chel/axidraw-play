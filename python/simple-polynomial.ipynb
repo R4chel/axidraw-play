{
 "cells": [
  {
   "cell_type": "code",
   "execution_count": 1,
   "id": "cd524f7b-9a8c-444a-b3a5-a8f9e1bc14e3",
   "metadata": {},
   "outputs": [],
   "source": [
    "import drawSvg as draw\n",
    "import random\n",
    "import math"
   ]
  },
  {
   "cell_type": "code",
   "execution_count": 3,
   "id": "27e28613-e0d4-4707-af2c-8027555f6dee",
   "metadata": {},
   "outputs": [],
   "source": [
    "xMax= 250\n",
    "yMax = 250\n"
   ]
  },
  {
   "cell_type": "code",
   "execution_count": 46,
   "id": "5852d93d-40c5-4c1f-874b-b0b65824d4ce",
   "metadata": {},
   "outputs": [],
   "source": [
    "class Line:\n",
    "    def __init__(self, roots):\n",
    "        self.roots = roots\n",
    "        \n",
    "    \n",
    "    def fy(self,x):\n",
    "        return math.prod([x-r for r in self.roots])\n",
    "\n",
    "    def points(self):\n",
    "        \n",
    "        return\n",
    "    \n",
    "    def toSvg(self):\n",
    "        x0 = -1*xMax\n",
    "        step =5\n",
    "        p = draw.Path(stroke_width=1, stroke='black',fill='none')\n",
    "        p.M(x0,self.fy(x0))\n",
    "        for x in range(x0,xMax, step):\n",
    "            p.l(x,self.fy(x))\n",
    "        return p\n",
    "    \n",
    "    def __repr__(self):\n",
    "        return str((self.x, self.y, self.r))\n",
    "    \n",
    "    def __cmp__(self, other):\n",
    "        return cmp((self.x, self.y, self.r), (other.x, other.y,other.r))\n",
    "    \n",
    "    def __lt__(self, other):\n",
    "        return ((self.x, self.y, self.r) < (other.x, other.y,other.r))"
   ]
  },
  {
   "cell_type": "code",
   "execution_count": 65,
   "id": "5754fedb-5011-4289-97af-f8d505a51363",
   "metadata": {},
   "outputs": [],
   "source": [
    "lines = [Line([0.001,.0000001,1,-1])]"
   ]
  },
  {
   "cell_type": "code",
   "execution_count": 66,
   "id": "7cb1eb27-471a-44fd-9f1e-9d3bc364636b",
   "metadata": {},
   "outputs": [],
   "source": [
    "d = draw.Drawing(xMax*2, yMax*2, origin='center')\n",
    "for l in lines:\n",
    "    d.append(l.toSvg())"
   ]
  },
  {
   "cell_type": "code",
   "execution_count": 67,
   "id": "9d29ceda-d1da-4442-bcc2-cf148d6295e4",
   "metadata": {},
   "outputs": [
    {
     "data": {
      "image/svg+xml": [
       "<?xml version=\"1.0\" encoding=\"UTF-8\"?>\n",
       "<svg xmlns=\"http://www.w3.org/2000/svg\" xmlns:xlink=\"http://www.w3.org/1999/xlink\"\n",
       "     width=\"500\" height=\"500\" viewBox=\"-250.0 -250.0 500 500\">\n",
       "<defs>\n",
       "</defs>\n",
       "<path d=\"M-250,-3906203126.3124814 l-250,-3906203126.3124814 l-245,-3602955307.350594 l-240,-3317716225.1423817 l-235,-3049758378.9377694 l-230,-2798369267.9866824 l-225,-2562851391.5390453 l-220,-2342522248.844783 l-215,-2136714339.1538208 l-210,-1944775161.7160833 l-205,-1766067215.7814963 l-200,-1599968000.599984 l-195,-1445870015.4214716 l-190,-1303180759.4958847 l-185,-1171322732.0731475 l-180,-1049733432.4031852 l-175,-937865359.735923 l-170,-835186013.3212858 l-165,-741177892.4091988 l-160,-655338496.2495866 l-155,-577180324.0923743 l-150,-506230875.18748724 l-145,-442032648.78485006 l-140,-384143144.1343879 l-135,-332134860.48602587 l-130,-285595297.08968866 l-125,-244126953.19530156 l-120,-207347328.05278942 l-115,-174888920.91207734 l-110,-146399231.0230902 l-105,-121540757.6357531 l-100,-99990999.999991 l-95,-81442457.3657289 l-90,-65602628.982891805 l-85,-52194014.10140473 l-80,-40954111.97119264 l-75,-31635421.842180558 l-70,-24005442.96429349 l-65,-17846674.587456424 l-60,-12956615.961594358 l-55,-9147766.336632302 l-50,-6247624.96249525 l-45,-4098691.089108202 l-40,-2558463.96639616 l-35,-1499442.8442841223 l-30,-809126.97269709 l-25,-390015.6015600625 l-20,-159607.9807980399 l-15,-50403.36033602239 l-10,-9900.990099009898 l-5,-600.1200120024 l0,1e-10 l5,-599.8799880024 l10,-9899.009901009902 l15,-50396.6396640224 l20,-159592.01920203987 l25,-389984.3984400623 l30,-809073.0273030899 l35,-1499357.1557161226 l40,-2558336.03360416 l45,-4098508.9108922025 l50,-6247375.03750525 l55,-9147433.663368303 l60,-12956184.038406359 l65,-17846125.41254442 l70,-24004757.03570749 l75,-31634578.157820564 l80,-40953088.02880864 l85,-52192785.89859672 l90,-65601171.01710981 l95,-81440742.6342729 l100,-99989000.000011 l105,-121538442.3642491 l110,-146396568.9769122 l115,-174885879.08792531 l120,-207343871.94721344 l125,-244123046.80470157 l130,-285590902.91031474 l135,-332129939.51397777 l140,-384137655.86561596 l145,-442026551.2151541 l150,-506224124.8125172 l155,-577172875.9076304 l160,-655330303.7504185 l165,-741168907.5908067 l170,-835176186.67872 l175,-937854640.264083 l180,-1049721767.5968213 l185,-1171310067.9268594 l190,-1303167040.5041227 l195,-1445855184.5785358 l200,-1599951999.400024 l205,-1766049984.2185123 l210,-1944756638.2839253 l215,-2136694460.846189 l220,-2342500951.155227 l225,-2562828608.460965 l230,-2798344932.013328 l235,-3049732421.062241 l240,-3317688574.85763 l245,-3602925892.6494184\" stroke-width=\"1\" stroke=\"black\" fill=\"none\" />\n",
       "</svg>"
      ],
      "text/plain": [
       "<drawSvg.drawing.Drawing at 0x113bb0850>"
      ]
     },
     "execution_count": 67,
     "metadata": {},
     "output_type": "execute_result"
    }
   ],
   "source": [
    "# Display in Jupyter notebook\n",
    "d.rasterize()  # Display as PNG\n",
    "d  # Display as SVG"
   ]
  },
  {
   "cell_type": "code",
   "execution_count": 68,
   "id": "1bffc368-1b69-4d89-90c6-075fbd19ce47",
   "metadata": {},
   "outputs": [],
   "source": [
    "d.saveSvg('simple-polynomial.svg')"
   ]
  },
  {
   "cell_type": "code",
   "execution_count": null,
   "id": "d996216a-5903-48ff-b25e-66ae3e915cc2",
   "metadata": {},
   "outputs": [],
   "source": []
  }
 ],
 "metadata": {
  "kernelspec": {
   "display_name": "Python 3 (ipykernel)",
   "language": "python",
   "name": "python3"
  },
  "language_info": {
   "codemirror_mode": {
    "name": "ipython",
    "version": 3
   },
   "file_extension": ".py",
   "mimetype": "text/x-python",
   "name": "python",
   "nbconvert_exporter": "python",
   "pygments_lexer": "ipython3",
   "version": "3.9.10"
  }
 },
 "nbformat": 4,
 "nbformat_minor": 5
}
