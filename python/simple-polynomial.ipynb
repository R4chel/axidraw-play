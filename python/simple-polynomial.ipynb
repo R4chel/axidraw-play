{
 "cells": [
  {
   "cell_type": "code",
   "execution_count": 129,
   "id": "cd524f7b-9a8c-444a-b3a5-a8f9e1bc14e3",
   "metadata": {},
   "outputs": [],
   "source": [
    "import drawSvg as draw\n",
    "import random\n",
    "import math\n",
    "import numpy as np"
   ]
  },
  {
   "cell_type": "code",
   "execution_count": 130,
   "id": "2cecb4a3-0677-42cd-9d28-870ff7120e3f",
   "metadata": {},
   "outputs": [],
   "source": [
    "seedOverride = None\n",
    "\n",
    "seed = seedOverride if seedOverride is not None else random.randrange(0,10000)\n",
    "random.seed(seed)\n"
   ]
  },
  {
   "cell_type": "code",
   "execution_count": 131,
   "id": "27e28613-e0d4-4707-af2c-8027555f6dee",
   "metadata": {},
   "outputs": [],
   "source": [
    "\n",
    "xMax = 5;\n",
    "yMax = 100;\n",
    "canvasWidth = 800;\n",
    "canvasHeight = 800;\n"
   ]
  },
  {
   "cell_type": "code",
   "execution_count": 141,
   "id": "5852d93d-40c5-4c1f-874b-b0b65824d4ce",
   "metadata": {},
   "outputs": [],
   "source": [
    "\n",
    "def fromCartesian(x,y):\n",
    "    return (x * canvasWidth / xMax, y*canvasHeight / yMax)\n",
    "\n",
    "\n",
    "class Line:\n",
    "    def __init__(self, roots):\n",
    "        self.roots = roots\n",
    "        \n",
    "    def fy(self,x):\n",
    "        return math.prod([x-r for r in self.roots])\n",
    "\n",
    "    def points(self):\n",
    "        x0 = -1*xMax\n",
    "        step = 0.1\n",
    "        return [(x,self.fy(x)) for x in np.arange(x0,xMax, step)]\n",
    "\n",
    "    def toSvg(self):\n",
    "        canvasPoints = [fromCartesian(*point) for point in self.points()]\n",
    "        print (len(canvasPoints))\n",
    "        canvasPoints = [(x,y) for (x,y) in canvasPoints if -1 * canvasWidth / 2 < x < canvasWidth / 2 and -1 * canvasHeight / 2 < y < canvasHeight /2]\n",
    "        print(\"filtered\", len(canvasPoints))\n",
    "        p = draw.Path(stroke_width=1, stroke='black',fill='none')\n",
    "        p.M(*canvasPoints[0])\n",
    "        for point in canvasPoints:\n",
    "            p.l(*point)\n",
    "        return p\n",
    "        "
   ]
  },
  {
   "cell_type": "code",
   "execution_count": 142,
   "id": "5754fedb-5011-4289-97af-f8d505a51363",
   "metadata": {},
   "outputs": [],
   "source": [
    "lines = [Line([1,2])]"
   ]
  },
  {
   "cell_type": "code",
   "execution_count": 143,
   "id": "7cb1eb27-471a-44fd-9f1e-9d3bc364636b",
   "metadata": {},
   "outputs": [
    {
     "name": "stdout",
     "output_type": "stream",
     "text": [
      "100\n",
      "filtered 50\n"
     ]
    }
   ],
   "source": [
    "d = draw.Drawing(xMax*2, yMax*2, origin='center')\n",
    "for l in lines:\n",
    "    d.append(l.toSvg())"
   ]
  },
  {
   "cell_type": "code",
   "execution_count": 145,
   "id": "9d29ceda-d1da-4442-bcc2-cf148d6295e4",
   "metadata": {},
   "outputs": [
    {
     "data": {
      "image/svg+xml": [
       "<?xml version=\"1.0\" encoding=\"UTF-8\"?>\n",
       "<svg xmlns=\"http://www.w3.org/2000/svg\" xmlns:xlink=\"http://www.w3.org/1999/xlink\"\n",
       "     width=\"10\" height=\"200\" viewBox=\"-5.0 -100.0 10 200\">\n",
       "<defs>\n",
       "</defs>\n",
       "<path d=\"M-384.0000000000015,-119.68000000000058 l-384.0000000000015,-119.68000000000058 l-368.00000000000153,-113.52000000000058 l-352.0000000000016,-107.5200000000006 l-336.00000000000165,-101.68000000000058 l-320.0000000000017,-96.0000000000006 l-304.00000000000176,-90.4800000000006 l-288.0000000000018,-85.1200000000006 l-272.0000000000019,-79.9200000000006 l-256.00000000000193,-74.88000000000059 l-240.000000000002,-70.0000000000006 l-224.00000000000205,-65.2800000000006 l-208.0000000000021,-60.72000000000059 l-192.00000000000216,-56.32000000000058 l-176.00000000000222,-52.080000000000574 l-160.00000000000227,-48.00000000000056 l-144.00000000000233,-44.08000000000057 l-128.0000000000024,-40.32000000000055 l-112.00000000000246,-36.72000000000054 l-96.0000000000025,-33.28000000000053 l-80.00000000000256,-30.000000000000508 l-64.00000000000261,-26.880000000000496 l-48.00000000000267,-23.92000000000048 l-32.00000000000273,-21.120000000000463 l-16.000000000002785,-18.480000000000445 l-2.8421709430404007e-12,-16.000000000000426 l15.999999999997101,-13.680000000000407 l31.999999999997044,-11.520000000000385 l47.99999999999699,-9.520000000000362 l63.99999999999693,-7.680000000000337 l79.99999999999687,-6.000000000000313 l95.99999999999682,-4.480000000000286 l111.99999999999677,-3.120000000000259 l127.9999999999967,-1.9200000000002309 l143.99999999999665,-0.8800000000002012 l159.9999999999966,-1.7053025658242765e-13 l175.99999999999653,0.7199999999998613 l191.99999999999648,1.2799999999998943 l207.99999999999642,1.6799999999999284 l223.99999999999636,1.9199999999999635 l239.9999999999963,2.0 l255.99999999999628,1.9200000000000375 l271.9999999999962,1.680000000000076 l287.99999999999613,1.280000000000116 l303.9999999999961,0.7200000000001568 l319.999999999996,1.989519660128231e-13 l335.99999999999596,-0.8799999999997579 l351.9999999999959,-1.9199999999997135 l367.99999999999585,-3.119999999999668 l383.9999999999958,-4.479999999999621 l399.99999999999574,-5.999999999999574\" stroke-width=\"1\" stroke=\"black\" fill=\"none\" />\n",
       "</svg>"
      ],
      "text/plain": [
       "<drawSvg.drawing.Drawing at 0x116bd22b0>"
      ]
     },
     "execution_count": 145,
     "metadata": {},
     "output_type": "execute_result"
    }
   ],
   "source": [
    "# Display in Jupyter notebook\n",
    "d.rasterize()  # Display as PNG\n",
    "d  # Display as SVG"
   ]
  },
  {
   "cell_type": "code",
   "execution_count": 88,
   "id": "95d570c2-b0ba-43ff-a39d-3554f549dee0",
   "metadata": {},
   "outputs": [],
   "source": [
    "# source : https://stackoverflow.com/a/21901260\n",
    "import subprocess\n",
    "\n",
    "def git_hash() -> str:\n",
    "    return subprocess.check_output(['git', 'rev-parse', '--short', 'HEAD']).decode('ascii').strip()"
   ]
  },
  {
   "cell_type": "code",
   "execution_count": 91,
   "id": "1bffc368-1b69-4d89-90c6-075fbd19ce47",
   "metadata": {},
   "outputs": [],
   "source": [
    "name='-'.join([\"simple-polynomail\", \"version\", git_hash(), \"seed\", str(seed)])\n",
    "d.saveSvg(\"svgs/\" + name + \".svg\")"
   ]
  },
  {
   "cell_type": "code",
   "execution_count": 92,
   "id": "d996216a-5903-48ff-b25e-66ae3e915cc2",
   "metadata": {},
   "outputs": [
    {
     "name": "stdout",
     "output_type": "stream",
     "text": [
      "5a980af3dfedda4107e46f53cb9ee0f755732b98\n",
      "5a980af\n"
     ]
    }
   ],
   "source": [
    "print(get_git_revision_hash())\n",
    "print(get_git_revision_short_hash())"
   ]
  },
  {
   "cell_type": "code",
   "execution_count": null,
   "id": "9665c6d0-ba41-46a9-911d-16d758370b3a",
   "metadata": {},
   "outputs": [],
   "source": []
  }
 ],
 "metadata": {
  "kernelspec": {
   "display_name": "Python 3 (ipykernel)",
   "language": "python",
   "name": "python3"
  },
  "language_info": {
   "codemirror_mode": {
    "name": "ipython",
    "version": 3
   },
   "file_extension": ".py",
   "mimetype": "text/x-python",
   "name": "python",
   "nbconvert_exporter": "python",
   "pygments_lexer": "ipython3",
   "version": "3.9.10"
  }
 },
 "nbformat": 4,
 "nbformat_minor": 5
}
