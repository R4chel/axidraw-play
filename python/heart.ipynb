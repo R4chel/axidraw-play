{
 "cells": [
  {
   "cell_type": "code",
   "execution_count": 143,
   "id": "da913b9e-1325-49c5-a9ba-1d06de34a56f",
   "metadata": {},
   "outputs": [],
   "source": [
    "import matplotlib.pyplot as plt\n",
    "import numpy as np"
   ]
  },
  {
   "cell_type": "code",
   "execution_count": 144,
   "id": "70627948-ea91-437c-9365-170a7ca03317",
   "metadata": {},
   "outputs": [],
   "source": [
    "theta = np.arange(0,np.pi*2*1.1, np.pi /60)\n",
    "r = heart(theta) "
   ]
  },
  {
   "cell_type": "code",
   "execution_count": 145,
   "id": "59184aca-cc3e-49f3-9eee-c97c4db16f66",
   "metadata": {},
   "outputs": [],
   "source": [
    "def heart(t):\n",
    "    return np.sin(t)*np.sqrt(np.abs(np.cos(t)))/(np.sin(t)+7/5)-2*np.sin(t)+2"
   ]
  },
  {
   "cell_type": "code",
   "execution_count": 146,
   "id": "1a6bc429-caaf-4822-a523-6c3ac3e736a0",
   "metadata": {},
   "outputs": [
    {
     "data": {
      "text/plain": [
       "array([0.        , 0.05235988, 0.10471976, 0.15707963, 0.20943951,\n",
       "       0.26179939, 0.31415927, 0.36651914, 0.41887902, 0.4712389 ,\n",
       "       0.52359878, 0.57595865, 0.62831853, 0.68067841, 0.73303829,\n",
       "       0.78539816, 0.83775804, 0.89011792, 0.9424778 , 0.99483767,\n",
       "       1.04719755, 1.09955743, 1.15191731, 1.20427718, 1.25663706,\n",
       "       1.30899694, 1.36135682, 1.41371669, 1.46607657, 1.51843645,\n",
       "       1.57079633, 1.6231562 , 1.67551608, 1.72787596, 1.78023584,\n",
       "       1.83259571, 1.88495559, 1.93731547, 1.98967535, 2.04203522,\n",
       "       2.0943951 , 2.14675498, 2.19911486, 2.25147474, 2.30383461,\n",
       "       2.35619449, 2.40855437, 2.46091425, 2.51327412, 2.565634  ,\n",
       "       2.61799388, 2.67035376, 2.72271363, 2.77507351, 2.82743339,\n",
       "       2.87979327, 2.93215314, 2.98451302, 3.0368729 , 3.08923278,\n",
       "       3.14159265, 3.19395253, 3.24631241, 3.29867229, 3.35103216,\n",
       "       3.40339204, 3.45575192, 3.5081118 , 3.56047167, 3.61283155,\n",
       "       3.66519143, 3.71755131, 3.76991118, 3.82227106, 3.87463094,\n",
       "       3.92699082, 3.97935069, 4.03171057, 4.08407045, 4.13643033,\n",
       "       4.1887902 , 4.24115008, 4.29350996, 4.34586984, 4.39822972,\n",
       "       4.45058959, 4.50294947, 4.55530935, 4.60766923, 4.6600291 ,\n",
       "       4.71238898, 4.76474886, 4.81710874, 4.86946861, 4.92182849,\n",
       "       4.97418837, 5.02654825, 5.07890812, 5.131268  , 5.18362788,\n",
       "       5.23598776, 5.28834763, 5.34070751, 5.39306739, 5.44542727,\n",
       "       5.49778714, 5.55014702, 5.6025069 , 5.65486678, 5.70722665,\n",
       "       5.75958653, 5.81194641, 5.86430629, 5.91666616, 5.96902604,\n",
       "       6.02138592, 6.0737458 , 6.12610567, 6.17846555, 6.23082543,\n",
       "       6.28318531, 6.33554518, 6.38790506, 6.44026494, 6.49262482,\n",
       "       6.54498469, 6.59734457, 6.64970445, 6.70206433, 6.75442421,\n",
       "       6.80678408, 6.85914396, 6.91150384])"
      ]
     },
     "execution_count": 146,
     "metadata": {},
     "output_type": "execute_result"
    }
   ],
   "source": [
    "theta"
   ]
  },
  {
   "cell_type": "code",
   "execution_count": 147,
   "id": "8603b196-ba87-42a9-a2de-c96e0d379da8",
   "metadata": {},
   "outputs": [
    {
     "data": {
      "image/png": "[encoded data removed]",
      "text/plain": [
       "<Figure size 432x288 with 1 Axes>"
      ]
     },
     "metadata": {
      "needs_background": "light"
     },
     "output_type": "display_data"
    }
   ],
   "source": [
    "fig = plt.figure()\n",
    "ax = fig.add_subplot(projection='polar')\n",
    "plt.axis('off')\n",
    "#plt.polar(theta, r, color = \"black\" )\n",
    "ax.plot(theta, r, color=\"black\")\n",
    "ax.grid(False)\n",
    "path='svgs/heart.svg'\n",
    "plt.savefig(path, format='svg')"
   ]
  },
  {
   "cell_type": "code",
   "execution_count": 148,
   "id": "bc9113a6-60bd-453e-a8b1-37e5ea9b48fc",
   "metadata": {},
   "outputs": [
    {
     "name": "stdout",
     "output_type": "stream",
     "text": [
      "svgs/heart.svg\n"
     ]
    }
   ],
   "source": [
    "print(path)"
   ]
  },
  {
   "cell_type": "code",
   "execution_count": 149,
   "id": "a7210068-1e33-4657-8b32-ac7770d8f240",
   "metadata": {},
   "outputs": [],
   "source": [
    "plt.show()"
   ]
  },
  {
   "cell_type": "code",
   "execution_count": null,
   "id": "d5ff2e42-300e-47aa-a6f4-b14833058c96",
   "metadata": {},
   "outputs": [],
   "source": []
  },
  {
   "cell_type": "code",
   "execution_count": null,
   "id": "dfaae5cc-878e-4e67-aaf9-2790244c0814",
   "metadata": {},
   "outputs": [],
   "source": []
  },
  {
   "cell_type": "code",
   "execution_count": null,
   "id": "6263c18c-82ed-4f7e-8755-cb56d851fcf2",
   "metadata": {},
   "outputs": [],
   "source": []
  }
 ],
 "metadata": {
  "kernelspec": {
   "display_name": "Python 3 (ipykernel)",
   "language": "python",
   "name": "python3"
  },
  "language_info": {
   "codemirror_mode": {
    "name": "ipython",
    "version": 3
   },
   "file_extension": ".py",
   "mimetype": "text/x-python",
   "name": "python",
   "nbconvert_exporter": "python",
   "pygments_lexer": "ipython3",
   "version": "3.9.10"
  }
 },
 "nbformat": 4,
 "nbformat_minor": 5
}
