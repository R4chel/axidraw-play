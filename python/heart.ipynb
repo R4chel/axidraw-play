{
 "cells": [
  {
   "cell_type": "code",
   "execution_count": 10,
   "id": "da913b9e-1325-49c5-a9ba-1d06de34a56f",
   "metadata": {},
   "outputs": [],
   "source": [
    "import matplotlib.pyplot as plt\n",
    "import numpy as np"
   ]
  },
  {
   "cell_type": "code",
   "execution_count": 11,
   "id": "70627948-ea91-437c-9365-170a7ca03317",
   "metadata": {},
   "outputs": [],
   "source": [
    "r = np.arange(0, 2, 0.01)\n",
    "theta = 2 * np.pi * r"
   ]
  },
  {
   "cell_type": "code",
   "execution_count": 75,
   "id": "8603b196-ba87-42a9-a2de-c96e0d379da8",
   "metadata": {},
   "outputs": [
    {
     "data": {
      "image/png": "[encoded data removed]",
      "text/plain": [
       "<Figure size 432x288 with 1 Axes>"
      ]
     },
     "metadata": {
      "needs_background": "light"
     },
     "output_type": "display_data"
    }
   ],
   "source": [
    "fig = plt.figure()\n",
    "ax = fig.add_subplot(projection='polar')\n",
    "plt.axis('off')\n",
    "#plt.polar(theta, r, color = \"black\" )\n",
    "ax.plot(theta, r, color=\"black\")\n",
    "ax.grid(False)\n",
    "path='svgs/test.svg'\n",
    "plt.savefig(path, format='svg')"
   ]
  },
  {
   "cell_type": "code",
   "execution_count": 76,
   "id": "bc9113a6-60bd-453e-a8b1-37e5ea9b48fc",
   "metadata": {},
   "outputs": [
    {
     "name": "stdout",
     "output_type": "stream",
     "text": [
      "svgs/test.svg\n"
     ]
    }
   ],
   "source": [
    "print(path)"
   ]
  },
  {
   "cell_type": "code",
   "execution_count": 77,
   "id": "a7210068-1e33-4657-8b32-ac7770d8f240",
   "metadata": {},
   "outputs": [],
   "source": [
    "plt.show()"
   ]
  },
  {
   "cell_type": "code",
   "execution_count": null,
   "id": "ec298e8b-f9ac-44f0-9ec4-b652400d2fcc",
   "metadata": {},
   "outputs": [],
   "source": []
  }
 ],
 "metadata": {
  "kernelspec": {
   "display_name": "Python 3 (ipykernel)",
   "language": "python",
   "name": "python3"
  },
  "language_info": {
   "codemirror_mode": {
    "name": "ipython",
    "version": 3
   },
   "file_extension": ".py",
   "mimetype": "text/x-python",
   "name": "python",
   "nbconvert_exporter": "python",
   "pygments_lexer": "ipython3",
   "version": "3.9.10"
  }
 },
 "nbformat": 4,
 "nbformat_minor": 5
}
