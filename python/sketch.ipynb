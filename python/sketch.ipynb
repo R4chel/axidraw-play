{
 "cells": [
  {
   "cell_type": "code",
   "execution_count": 1,
   "id": "6f92a674-92df-46e5-92d9-0db856006db7",
   "metadata": {},
   "outputs": [],
   "source": [
    "import drawSvg as draw"
   ]
  },
  {
   "cell_type": "code",
   "execution_count": 11,
   "id": "dd5c9b1a-7ed8-438b-837b-263be4cb6063",
   "metadata": {},
   "outputs": [],
   "source": [
    "d = draw.Drawing(200, 100, origin='center')\n",
    "d.append(draw.Circle(-40, -10, 30, stroke_width=2, stroke='black'))"
   ]
  },
  {
   "cell_type": "code",
   "execution_count": 12,
   "id": "c96690f8-a8ab-454e-914f-eaacc6e38107",
   "metadata": {},
   "outputs": [
    {
     "data": {
      "image/svg+xml": [
       "<?xml version=\"1.0\" encoding=\"UTF-8\"?>\n",
       "<svg xmlns=\"http://www.w3.org/2000/svg\" xmlns:xlink=\"http://www.w3.org/1999/xlink\"\n",
       "     width=\"200\" height=\"100\" viewBox=\"-100.0 -50.0 200 100\">\n",
       "<defs>\n",
       "</defs>\n",
       "<circle cx=\"-40\" cy=\"10\" r=\"30\" stroke-width=\"2\" stroke=\"black\" />\n",
       "</svg>"
      ],
      "text/plain": [
       "<drawSvg.drawing.Drawing at 0x1111298e0>"
      ]
     },
     "execution_count": 12,
     "metadata": {},
     "output_type": "execute_result"
    }
   ],
   "source": [
    "# Display in Jupyter notebook\n",
    "d.rasterize()  # Display as PNG\n",
    "d  # Display as SVG"
   ]
  },
  {
   "cell_type": "code",
   "execution_count": 9,
   "id": "22c214b7-b4f4-4737-b393-e24992840efb",
   "metadata": {},
   "outputs": [],
   "source": [
    "d.saveSvg('example.svg')"
   ]
  },
  {
   "cell_type": "code",
   "execution_count": null,
   "id": "5d3629e6-94cb-4cab-b8ce-2b3da43a51d8",
   "metadata": {},
   "outputs": [],
   "source": []
  }
 ],
 "metadata": {
  "kernelspec": {
   "display_name": "Python 3 (ipykernel)",
   "language": "python",
   "name": "python3"
  },
  "language_info": {
   "codemirror_mode": {
    "name": "ipython",
    "version": 3
   },
   "file_extension": ".py",
   "mimetype": "text/x-python",
   "name": "python",
   "nbconvert_exporter": "python",
   "pygments_lexer": "ipython3",
   "version": "3.9.10"
  }
 },
 "nbformat": 4,
 "nbformat_minor": 5
}
