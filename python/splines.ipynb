{
 "cells": [
  {
   "cell_type": "markdown",
   "id": "9ccffb19-ad14-4320-b292-6f22f3cd7122",
   "metadata": {
    "tags": []
   },
   "source": [
    "# Catmull-Rom Splines"
   ]
  },
  {
   "cell_type": "markdown",
   "id": "4d987d17-15c0-4a4f-8192-55c30aa36a2e",
   "metadata": {},
   "source": [
    "## Inspriation\n",
    "This is the algorithm used by [p5.js](https://p5js.org)'s [curveVertex()](https://p5js.org/reference/#/p5/curveVertex) function as indicated in the [source code](https://github.com/processing/p5.js/blob/main/src/core/shape/curves.js)."
   ]
  },
  {
   "cell_type": "markdown",
   "id": "311270fb-234c-4358-bec5-809661987b36",
   "metadata": {},
   "source": [
    "## Implementation\n",
    "\n",
    "This code is based on the [Code Example](https://en.wikipedia.org/wiki/Centripetal_Catmull–Rom_spline#Code_example_in_Python) from the [Centripetal Catmull–Rom spline Wikipedia Page](https://en.wikipedia.org/wiki/Centripetal_Catmull–Rom_spline)\n"
   ]
  },
  {
   "cell_type": "code",
   "execution_count": 1,
   "id": "21cc91af-6e92-4443-851e-136b5bce34a8",
   "metadata": {},
   "outputs": [],
   "source": [
    "import numpy\n",
    "import matplotlib.pyplot as plt\n",
    "\n",
    "\n",
    "QUADRUPLE_SIZE: int = 4\n",
    "\n",
    "\n",
    "def num_segments(points: tuple) -> int:\n",
    "    return len(points) - (QUADRUPLE_SIZE - 1)\n",
    "\n",
    "\n",
    "def catmull_rom_spline(\n",
    "    P0: tuple,\n",
    "    P1: tuple,\n",
    "    P2: tuple,\n",
    "    P3: tuple,\n",
    "    num_points: int,\n",
    "    alpha: float = 0.5,\n",
    "):\n",
    "    \"\"\"\n",
    "    Compute the points in the spline segment\n",
    "    :param P0, P1, P2, and P3: The (x,y) point pairs that define the Catmull-Rom spline\n",
    "    :param num_points: The number of points to include in the resulting curve segment\n",
    "    :param alpha: 0.5 for the centripetal spline, 0.0 for the uniform spline, 1.0 for the chordal spline.\n",
    "    :return: The points\n",
    "    \"\"\"\n",
    "\n",
    "    # Calculate t0 to t4. Then only calculate points between P1 and P2.\n",
    "    # Reshape linspace so that we can multiply by the points P0 to P3\n",
    "    # and get a point for each value of t.\n",
    "    def tj(ti: float, pi: tuple, pj: tuple) -> float:\n",
    "        xi, yi = pi\n",
    "        xj, yj = pj\n",
    "        dx, dy = xj - xi, yj - yi\n",
    "        l = (dx ** 2 + dy ** 2) ** 0.5\n",
    "        return ti + l ** alpha\n",
    "\n",
    "    t0: float = 0.0\n",
    "    t1: float = tj(t0, P0, P1)\n",
    "    t2: float = tj(t1, P1, P2)\n",
    "    t3: float = tj(t2, P2, P3)\n",
    "    t = numpy.linspace(t1, t2, num_points).reshape(num_points, 1)\n",
    "\n",
    "    A1 = (t1 - t) / (t1 - t0) * P0 + (t - t0) / (t1 - t0) * P1\n",
    "    A2 = (t2 - t) / (t2 - t1) * P1 + (t - t1) / (t2 - t1) * P2\n",
    "    A3 = (t3 - t) / (t3 - t2) * P2 + (t - t2) / (t3 - t2) * P3\n",
    "    B1 = (t2 - t) / (t2 - t0) * A1 + (t - t0) / (t2 - t0) * A2\n",
    "    B2 = (t3 - t) / (t3 - t1) * A2 + (t - t1) / (t3 - t1) * A3\n",
    "    points = (t2 - t) / (t2 - t1) * B1 + (t - t1) / (t2 - t1) * B2\n",
    "    return points\n",
    "\n",
    "\n",
    "def catmull_rom_chain(points: tuple, num_points: int) -> list:\n",
    "    \"\"\"\n",
    "    Calculate Catmull-Rom for a sequence of initial points and return the combined curve.\n",
    "    :param points: Base points from which the quadruples for the algorithm are taken\n",
    "    :param num_points: The number of points to include in each curve segment\n",
    "    :return: The chain of all points (points of all segments)\n",
    "    \"\"\"\n",
    "    point_qudruples = (\n",
    "        (points[idx_segment_start + d] for d in range(QUADRUPLE_SIZE))\n",
    "        for idx_segment_start in range(num_segments(points))\n",
    "    )\n",
    "    all_splines = (catmull_rom_spline(*q, num_points) for q in point_qudruples)\n",
    "\n",
    "    chain = [chain_point for spline in all_splines for chain_point in spline]  # flatten\n",
    "    return chain\n",
    "\n",
    "\n"
   ]
  },
  {
   "cell_type": "code",
   "execution_count": 2,
   "id": "03594068-f1e3-4708-8fd0-e78591501c99",
   "metadata": {},
   "outputs": [
    {
     "data": {
      "image/png": "[encoded data removed]",
      "text/plain": [
       "<Figure size 432x288 with 1 Axes>"
      ]
     },
     "metadata": {
      "needs_background": "light"
     },
     "output_type": "display_data"
    }
   ],
   "source": [
    "POINTS: tuple = ((0, 1.5), (2, 2), (3, 1), (4, 0.5), (5, 1), (6, 2), (7, 3))\n",
    "NUM_POINTS: int = 100  # Density of chain points\n",
    "\n",
    "chain_points: list = catmull_rom_chain(POINTS, NUM_POINTS)\n",
    "assert len(chain_points) == num_segments(POINTS) * NUM_POINTS  # 400 blue points for this example\n",
    "\n",
    "\n",
    "plt.plot(*zip(*chain_points), c=\"blue\")\n",
    "plt.plot(*zip(*POINTS), c=\"red\", linestyle=\"none\", marker=\"o\")\n",
    "\n",
    "plt.savefig(\"spline.svg\", format=\"svg\")\n"
   ]
  },
  {
   "cell_type": "code",
   "execution_count": null,
   "id": "843bfaf8-f242-4c03-b06e-81d167c303f3",
   "metadata": {},
   "outputs": [],
   "source": []
  }
 ],
 "metadata": {
  "kernelspec": {
   "display_name": "Python 3 (ipykernel)",
   "language": "python",
   "name": "python3"
  },
  "language_info": {
   "codemirror_mode": {
    "name": "ipython",
    "version": 3
   },
   "file_extension": ".py",
   "mimetype": "text/x-python",
   "name": "python",
   "nbconvert_exporter": "python",
   "pygments_lexer": "ipython3",
   "version": "3.9.10"
  }
 },
 "nbformat": 4,
 "nbformat_minor": 5
}
