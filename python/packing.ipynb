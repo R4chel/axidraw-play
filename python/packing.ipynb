{
 "cells": [
  {
   "cell_type": "code",
   "execution_count": 208,
   "id": "86f10650-a888-4935-a76f-5d77afcb0cef",
   "metadata": {},
   "outputs": [],
   "source": [
    "import drawSvg as draw\n",
    "import random\n",
    "import math"
   ]
  },
  {
   "cell_type": "code",
   "execution_count": 209,
   "id": "de18f8ba-32a6-406c-826c-9ada78cb890a",
   "metadata": {},
   "outputs": [],
   "source": [
    "xMax= 250\n",
    "yMax = 250\n",
    "max_radius=200\n",
    "min_radius=10"
   ]
  },
  {
   "cell_type": "code",
   "execution_count": 226,
   "id": "80f91a21-42eb-4260-a35b-fffd2a6bdb56",
   "metadata": {},
   "outputs": [],
   "source": [
    "class Circle:\n",
    "    def __init__(self, x,y,r):\n",
    "        self.x = x\n",
    "        self.y = y\n",
    "        self.r = r\n",
    "    \n",
    "    def toSvg(self):\n",
    "        return draw.Circle(self.x,self.y,self.r, stroke_width=1,stroke='black', fill='none')\n",
    "    \n",
    "    def __repr__(self):\n",
    "        return str((self.x, self.y, self.r))\n",
    "    \n",
    "    def __cmp__(self, other):\n",
    "        return cmp((self.x, self.y, self.r), (other.x, other.y,other.r))\n",
    "    \n",
    "    def __lt__(self, other):\n",
    "        return ((self.x, self.y, self.r) < (other.x, other.y,other.r))"
   ]
  },
  {
   "cell_type": "code",
   "execution_count": 227,
   "id": "34c2610c-bf6b-472f-ba1b-52cad5358aaa",
   "metadata": {},
   "outputs": [],
   "source": [
    "def randomX():\n",
    "    return random.randrange(-1*xMax,xMax)\n",
    "def randomY():\n",
    "    return random.randrange(-1*yMax,yMax)"
   ]
  },
  {
   "cell_type": "code",
   "execution_count": 228,
   "id": "062793ac-c482-4f63-b6ee-79274c9a4226",
   "metadata": {},
   "outputs": [],
   "source": [
    "def maxRadius(circles, x, y):\n",
    "    r = max_radius\n",
    "    r = min([r, xMax-abs(x),yMax-abs(y)])\n",
    "    for c in circles:\n",
    "        dist = math.dist((x,y),(c.x,c.y))\n",
    "        r = min(dist - c.r, r)\n",
    "        if r < 0:\n",
    "            return -1\n",
    "    return r"
   ]
  },
  {
   "cell_type": "code",
   "execution_count": 229,
   "id": "ccb3aa57-efb3-4d0d-b2b3-2cfd4943e23b",
   "metadata": {},
   "outputs": [],
   "source": [
    "def maybeAddCircle(circles):\n",
    "    x = randomX()\n",
    "    y = randomY()\n",
    "    r = maxRadius(circles, x, y)\n",
    "    if r > min_radius:\n",
    "        circles.append(Circle(x,y,r))"
   ]
  },
  {
   "cell_type": "code",
   "execution_count": 230,
   "id": "239b71ce-69d8-4236-838b-6f1f34e77ead",
   "metadata": {},
   "outputs": [],
   "source": [
    "circles = []\n",
    "for i in range(10000):\n",
    "    maybeAddCircle(circles)"
   ]
  },
  {
   "cell_type": "code",
   "execution_count": 231,
   "id": "cab449cc-6bf0-4320-8e51-f5374a6b4a5b",
   "metadata": {},
   "outputs": [
    {
     "data": {
      "text/plain": [
       "101"
      ]
     },
     "execution_count": 231,
     "metadata": {},
     "output_type": "execute_result"
    }
   ],
   "source": [
    "len(circles)"
   ]
  },
  {
   "cell_type": "code",
   "execution_count": 232,
   "id": "dd0a5ace-2764-4b45-92e6-c014c124dff8",
   "metadata": {},
   "outputs": [
    {
     "name": "stdout",
     "output_type": "stream",
     "text": [
      "-136 238 12\n"
     ]
    }
   ],
   "source": [
    "print(circles[0].x,circles[0].y,circles[0].r)\n"
   ]
  },
  {
   "cell_type": "code",
   "execution_count": 233,
   "id": "f93accb6-a443-470c-be29-ce3572e0e57a",
   "metadata": {},
   "outputs": [
    {
     "name": "stdout",
     "output_type": "stream",
     "text": [
      "(-136, 238, 12)\n"
     ]
    }
   ],
   "source": [
    "print(circles[0])"
   ]
  },
  {
   "cell_type": "code",
   "execution_count": 218,
   "id": "2c665c00-0094-4eeb-b47a-a1425f8d9810",
   "metadata": {},
   "outputs": [],
   "source": [
    "\n",
    "circles.sort()"
   ]
  },
  {
   "cell_type": "code",
   "execution_count": 219,
   "id": "358eb3ac-877d-4e21-b789-b02ad40a02ae",
   "metadata": {},
   "outputs": [
    {
     "name": "stdout",
     "output_type": "stream",
     "text": [
      "-239 -222 10.627416997969522\n"
     ]
    }
   ],
   "source": [
    "print(circles[0].x,circles[0].y,circles[0].r)"
   ]
  },
  {
   "cell_type": "code",
   "execution_count": 220,
   "id": "2a1fd682-4738-438b-988a-7d795e5d9c45",
   "metadata": {},
   "outputs": [],
   "source": [
    "d = draw.Drawing(xMax*2, yMax*2, origin='center')\n",
    "for c in circles:\n",
    "    d.append(c.toSvg())"
   ]
  },
  {
   "cell_type": "code",
   "execution_count": 221,
   "id": "4669a388-d204-48cd-bf6f-b57202b2293e",
   "metadata": {},
   "outputs": [
    {
     "data": {
      "image/svg+xml": [
       "<?xml version=\"1.0\" encoding=\"UTF-8\"?>\n",
       "<svg xmlns=\"http://www.w3.org/2000/svg\" xmlns:xlink=\"http://www.w3.org/1999/xlink\"\n",
       "     width=\"500\" height=\"500\" viewBox=\"-250.0 -250.0 500 500\">\n",
       "<defs>\n",
       "</defs>\n",
       "<circle cx=\"-239\" cy=\"222\" r=\"10.627416997969522\" stroke-width=\"1\" stroke=\"black\" fill=\"none\" />\n",
       "<circle cx=\"-234\" cy=\"86\" r=\"13.285267157411553\" stroke-width=\"1\" stroke=\"black\" fill=\"none\" />\n",
       "<circle cx=\"-231\" cy=\"3\" r=\"17.717577551316076\" stroke-width=\"1\" stroke=\"black\" fill=\"none\" />\n",
       "<circle cx=\"-225\" cy=\"-34\" r=\"16.856996786291916\" stroke-width=\"1\" stroke=\"black\" fill=\"none\" />\n",
       "<circle cx=\"-223\" cy=\"238\" r=\"12\" stroke-width=\"1\" stroke=\"black\" fill=\"none\" />\n",
       "<circle cx=\"-223\" cy=\"-214\" r=\"18.07179985642624\" stroke-width=\"1\" stroke=\"black\" fill=\"none\" />\n",
       "<circle cx=\"-219\" cy=\"-172\" r=\"24.11824636303173\" stroke-width=\"1\" stroke=\"black\" fill=\"none\" />\n",
       "<circle cx=\"-197\" cy=\"-15\" r=\"10.17056687117725\" stroke-width=\"1\" stroke=\"black\" fill=\"none\" />\n",
       "<circle cx=\"-197\" cy=\"-98\" r=\"53\" stroke-width=\"1\" stroke=\"black\" fill=\"none\" />\n",
       "<circle cx=\"-196\" cy=\"239\" r=\"11\" stroke-width=\"1\" stroke=\"black\" fill=\"none\" />\n",
       "<circle cx=\"-195\" cy=\"42\" r=\"35.357840487546326\" stroke-width=\"1\" stroke=\"black\" fill=\"none\" />\n",
       "<circle cx=\"-189\" cy=\"-233\" r=\"10.416046016535049\" stroke-width=\"1\" stroke=\"black\" fill=\"none\" />\n",
       "<circle cx=\"-172\" cy=\"153\" r=\"78\" stroke-width=\"1\" stroke=\"black\" fill=\"none\" />\n",
       "<circle cx=\"-150\" cy=\"-21\" r=\"37.210864090751286\" stroke-width=\"1\" stroke=\"black\" fill=\"none\" />\n",
       "<circle cx=\"-147\" cy=\"52\" r=\"13.672762200978724\" stroke-width=\"1\" stroke=\"black\" fill=\"none\" />\n",
       "<circle cx=\"-145\" cy=\"-189\" r=\"51.80935072788114\" stroke-width=\"1\" stroke=\"black\" fill=\"none\" />\n",
       "<circle cx=\"-131\" cy=\"72\" r=\"11.93973474875267\" stroke-width=\"1\" stroke=\"black\" fill=\"none\" />\n",
       "<circle cx=\"-117\" cy=\"231\" r=\"14.068964961984904\" stroke-width=\"1\" stroke=\"black\" fill=\"none\" />\n",
       "<circle cx=\"-105\" cy=\"89\" r=\"14.655275079188016\" stroke-width=\"1\" stroke=\"black\" fill=\"none\" />\n",
       "<circle cx=\"-100\" cy=\"35\" r=\"36.30723379742048\" stroke-width=\"1\" stroke=\"black\" fill=\"none\" />\n",
       "<circle cx=\"-100\" cy=\"-35\" r=\"12.387695966961914\" stroke-width=\"1\" stroke=\"black\" fill=\"none\" />\n",
       "<circle cx=\"-98\" cy=\"-236\" r=\"14\" stroke-width=\"1\" stroke=\"black\" fill=\"none\" />\n",
       "<circle cx=\"-94\" cy=\"-11\" r=\"10.082420221552326\" stroke-width=\"1\" stroke=\"black\" fill=\"none\" />\n",
       "<circle cx=\"-93\" cy=\"-98\" r=\"51.0\" stroke-width=\"1\" stroke=\"black\" fill=\"none\" />\n",
       "<circle cx=\"-87\" cy=\"209\" r=\"23.13318551349164\" stroke-width=\"1\" stroke=\"black\" fill=\"none\" />\n",
       "<circle cx=\"-81\" cy=\"165\" r=\"13.7877987534291\" stroke-width=\"1\" stroke=\"black\" fill=\"none\" />\n",
       "<circle cx=\"-80\" cy=\"140\" r=\"11.23219325296451\" stroke-width=\"1\" stroke=\"black\" fill=\"none\" />\n",
       "<circle cx=\"-78\" cy=\"-165\" r=\"11.797668196644814\" stroke-width=\"1\" stroke=\"black\" fill=\"none\" />\n",
       "<circle cx=\"-75\" cy=\"77\" r=\"12.570163841979266\" stroke-width=\"1\" stroke=\"black\" fill=\"none\" />\n",
       "<circle cx=\"-73\" cy=\"-5\" r=\"11.75790944628923\" stroke-width=\"1\" stroke=\"black\" fill=\"none\" />\n",
       "<circle cx=\"-72\" cy=\"-198\" r=\"21.74335146585203\" stroke-width=\"1\" stroke=\"black\" fill=\"none\" />\n",
       "<circle cx=\"-71\" cy=\"-239\" r=\"11\" stroke-width=\"1\" stroke=\"black\" fill=\"none\" />\n",
       "<circle cx=\"-69\" cy=\"108\" r=\"18.040225235432274\" stroke-width=\"1\" stroke=\"black\" fill=\"none\" />\n",
       "<circle cx=\"-67\" cy=\"239\" r=\"10.707441767506253\" stroke-width=\"1\" stroke=\"black\" fill=\"none\" />\n",
       "<circle cx=\"-66\" cy=\"-35\" r=\"17.541957952775178\" stroke-width=\"1\" stroke=\"black\" fill=\"none\" />\n",
       "<circle cx=\"-59\" cy=\"136\" r=\"10.145365073467442\" stroke-width=\"1\" stroke=\"black\" fill=\"none\" />\n",
       "<circle cx=\"-50\" cy=\"166\" r=\"10.187289221133863\" stroke-width=\"1\" stroke=\"black\" fill=\"none\" />\n",
       "<circle cx=\"-48\" cy=\"-161\" r=\"10.075056608368108\" stroke-width=\"1\" stroke=\"black\" fill=\"none\" />\n",
       "<circle cx=\"-44\" cy=\"-139\" r=\"10.638388053734865\" stroke-width=\"1\" stroke=\"black\" fill=\"none\" />\n",
       "<circle cx=\"-43\" cy=\"-51\" r=\"10.475893499468622\" stroke-width=\"1\" stroke=\"black\" fill=\"none\" />\n",
       "<circle cx=\"-35\" cy=\"152\" r=\"10.33099530754933\" stroke-width=\"1\" stroke=\"black\" fill=\"none\" />\n",
       "<circle cx=\"-31\" cy=\"-121\" r=\"10.10515165391542\" stroke-width=\"1\" stroke=\"black\" fill=\"none\" />\n",
       "<circle cx=\"-28\" cy=\"-224\" r=\"20.011109739707592\" stroke-width=\"1\" stroke=\"black\" fill=\"none\" />\n",
       "<circle cx=\"-27\" cy=\"213\" r=\"37\" stroke-width=\"1\" stroke=\"black\" fill=\"none\" />\n",
       "<circle cx=\"-26\" cy=\"-90\" r=\"16.47592163134935\" stroke-width=\"1\" stroke=\"black\" fill=\"none\" />\n",
       "<circle cx=\"-26\" cy=\"-183\" r=\"21.037641763839986\" stroke-width=\"1\" stroke=\"black\" fill=\"none\" />\n",
       "<circle cx=\"-17\" cy=\"-144\" r=\"16.8206723817571\" stroke-width=\"1\" stroke=\"black\" fill=\"none\" />\n",
       "<circle cx=\"8\" cy=\"-115\" r=\"11.018743054168915\" stroke-width=\"1\" stroke=\"black\" fill=\"none\" />\n",
       "<circle cx=\"10\" cy=\"-137\" r=\"11.071978980205607\" stroke-width=\"1\" stroke=\"black\" fill=\"none\" />\n",
       "<circle cx=\"14\" cy=\"-167\" r=\"19.142076100324644\" stroke-width=\"1\" stroke=\"black\" fill=\"none\" />\n",
       "<circle cx=\"17\" cy=\"-225\" r=\"25\" stroke-width=\"1\" stroke=\"black\" fill=\"none\" />\n",
       "<circle cx=\"21\" cy=\"197\" r=\"10.820262558239591\" stroke-width=\"1\" stroke=\"black\" fill=\"none\" />\n",
       "<circle cx=\"33\" cy=\"-191\" r=\"11.46837962970329\" stroke-width=\"1\" stroke=\"black\" fill=\"none\" />\n",
       "<circle cx=\"38\" cy=\"230\" r=\"20\" stroke-width=\"1\" stroke=\"black\" fill=\"none\" />\n",
       "<circle cx=\"51\" cy=\"-134\" r=\"30.037630601983324\" stroke-width=\"1\" stroke=\"black\" fill=\"none\" />\n",
       "<circle cx=\"51\" cy=\"-176\" r=\"11.962369398016676\" stroke-width=\"1\" stroke=\"black\" fill=\"none\" />\n",
       "<circle cx=\"73\" cy=\"215\" r=\"10.023796041628636\" stroke-width=\"1\" stroke=\"black\" fill=\"none\" />\n",
       "<circle cx=\"82\" cy=\"-214\" r=\"36\" stroke-width=\"1\" stroke=\"black\" fill=\"none\" />\n",
       "<circle cx=\"87\" cy=\"238\" r=\"12\" stroke-width=\"1\" stroke=\"black\" fill=\"none\" />\n",
       "<circle cx=\"87\" cy=\"-156\" r=\"10.274663113405747\" stroke-width=\"1\" stroke=\"black\" fill=\"none\" />\n",
       "<circle cx=\"94\" cy=\"214\" r=\"11.0\" stroke-width=\"1\" stroke=\"black\" fill=\"none\" />\n",
       "<circle cx=\"94\" cy=\"47\" r=\"156\" stroke-width=\"1\" stroke=\"black\" fill=\"none\" />\n",
       "<circle cx=\"101\" cy=\"-129\" r=\"20.13914953808535\" stroke-width=\"1\" stroke=\"black\" fill=\"none\" />\n",
       "<circle cx=\"111\" cy=\"-176\" r=\"11.801673610868477\" stroke-width=\"1\" stroke=\"black\" fill=\"none\" />\n",
       "<circle cx=\"118\" cy=\"-155\" r=\"10.334270010310181\" stroke-width=\"1\" stroke=\"black\" fill=\"none\" />\n",
       "<circle cx=\"122\" cy=\"227\" r=\"14.553338819890932\" stroke-width=\"1\" stroke=\"black\" fill=\"none\" />\n",
       "<circle cx=\"135\" cy=\"-178\" r=\"10.363083384538811\" stroke-width=\"1\" stroke=\"black\" fill=\"none\" />\n",
       "<circle cx=\"137\" cy=\"-135\" r=\"16.357425643703962\" stroke-width=\"1\" stroke=\"black\" fill=\"none\" />\n",
       "<circle cx=\"145\" cy=\"-214\" r=\"27.0\" stroke-width=\"1\" stroke=\"black\" fill=\"none\" />\n",
       "<circle cx=\"147\" cy=\"-160\" r=\"10.568398391968561\" stroke-width=\"1\" stroke=\"black\" fill=\"none\" />\n",
       "<circle cx=\"160\" cy=\"-180\" r=\"10.16180835212409\" stroke-width=\"1\" stroke=\"black\" fill=\"none\" />\n",
       "<circle cx=\"166\" cy=\"220\" r=\"30\" stroke-width=\"1\" stroke=\"black\" fill=\"none\" />\n",
       "<circle cx=\"168\" cy=\"-117\" r=\"10.313969425349093\" stroke-width=\"1\" stroke=\"black\" fill=\"none\" />\n",
       "<circle cx=\"178\" cy=\"-233\" r=\"10.181260075360157\" stroke-width=\"1\" stroke=\"black\" fill=\"none\" />\n",
       "<circle cx=\"182\" cy=\"-101\" r=\"10.946322200120207\" stroke-width=\"1\" stroke=\"black\" fill=\"none\" />\n",
       "<circle cx=\"183\" cy=\"-147\" r=\"23.227050237147758\" stroke-width=\"1\" stroke=\"black\" fill=\"none\" />\n",
       "<circle cx=\"205\" cy=\"-199\" r=\"33.235326616824665\" stroke-width=\"1\" stroke=\"black\" fill=\"none\" />\n",
       "<circle cx=\"209\" cy=\"176\" r=\"16.817823154904943\" stroke-width=\"1\" stroke=\"black\" fill=\"none\" />\n",
       "<circle cx=\"213\" cy=\"237\" r=\"13\" stroke-width=\"1\" stroke=\"black\" fill=\"none\" />\n",
       "<circle cx=\"220\" cy=\"203\" r=\"12.336936319321559\" stroke-width=\"1\" stroke=\"black\" fill=\"none\" />\n",
       "<circle cx=\"222\" cy=\"-62\" r=\"11.022715545545243\" stroke-width=\"1\" stroke=\"black\" fill=\"none\" />\n",
       "<circle cx=\"223\" cy=\"-105\" r=\"27\" stroke-width=\"1\" stroke=\"black\" fill=\"none\" />\n",
       "<circle cx=\"230\" cy=\"-152\" r=\"20\" stroke-width=\"1\" stroke=\"black\" fill=\"none\" />\n",
       "<circle cx=\"236\" cy=\"159\" r=\"14\" stroke-width=\"1\" stroke=\"black\" fill=\"none\" />\n",
       "<circle cx=\"236\" cy=\"134\" r=\"10.532279153322094\" stroke-width=\"1\" stroke=\"black\" fill=\"none\" />\n",
       "<circle cx=\"238\" cy=\"-228\" r=\"10.696438656152935\" stroke-width=\"1\" stroke=\"black\" fill=\"none\" />\n",
       "<circle cx=\"239\" cy=\"223\" r=\"11\" stroke-width=\"1\" stroke=\"black\" fill=\"none\" />\n",
       "<circle cx=\"239\" cy=\"185\" r=\"11\" stroke-width=\"1\" stroke=\"black\" fill=\"none\" />\n",
       "<circle cx=\"239\" cy=\"-48\" r=\"11\" stroke-width=\"1\" stroke=\"black\" fill=\"none\" />\n",
       "</svg>"
      ],
      "text/plain": [
       "<drawSvg.drawing.Drawing at 0x107481880>"
      ]
     },
     "execution_count": 221,
     "metadata": {},
     "output_type": "execute_result"
    }
   ],
   "source": [
    "# Display in Jupyter notebook\n",
    "d.rasterize()  # Display as PNG\n",
    "d  # Display as SVG"
   ]
  },
  {
   "cell_type": "code",
   "execution_count": 222,
   "id": "ddcfbc07-b47f-4eb2-82ee-60a274243495",
   "metadata": {},
   "outputs": [],
   "source": [
    "d.saveSvg('packed.svg')"
   ]
  },
  {
   "cell_type": "code",
   "execution_count": null,
   "id": "f878c01e-af89-4500-9c20-970bba9bcb86",
   "metadata": {},
   "outputs": [],
   "source": []
  },
  {
   "cell_type": "code",
   "execution_count": 223,
   "id": "91d33c39-b533-4d88-a09f-54e1be46423e",
   "metadata": {},
   "outputs": [
    {
     "name": "stdout",
     "output_type": "stream",
     "text": [
      "Help on package drawSvg:\n",
      "\n",
      "NAME\n",
      "    drawSvg\n",
      "\n",
      "DESCRIPTION\n",
      "    A library for creating SVG files or just drawings that can be displayed in\n",
      "    iPython notebooks\n",
      "    \n",
      "    Example:\n",
      "    ```\n",
      "        d = draw.Drawing(200, 100, origin='center')\n",
      "    \n",
      "        d.append(draw.Lines(-80, -45,\n",
      "                            70, -49,\n",
      "                            95, 49,\n",
      "                            -90, 40,\n",
      "                            close=False,\n",
      "                    fill='#eeee00',\n",
      "                    stroke='black'))\n",
      "    \n",
      "        d.append(draw.Rectangle(0,0,40,50, fill='#1248ff'))\n",
      "        d.append(draw.Circle(-40, -10, 30,\n",
      "                    fill='red', stroke_width=2, stroke='black'))\n",
      "    \n",
      "        p = draw.Path(stroke_width=2, stroke='green',\n",
      "                      fill='black', fill_opacity=0.5)\n",
      "        p.M(-30,5)  # Start path at point (-30, 5)\n",
      "        p.l(60,30)  # Draw line to (60, 30)\n",
      "        p.h(-70)    # Draw horizontal line to x=-70\n",
      "        p.Z()       # Draw line to start\n",
      "        d.append(p)\n",
      "    \n",
      "        d.append(draw.ArcLine(60,-20,20,60,270,\n",
      "                    stroke='red', stroke_width=5, fill='red', fill_opacity=0.2))\n",
      "        d.append(draw.Arc(60,-20,20,60,270,cw=False,\n",
      "                    stroke='green', stroke_width=3, fill='none'))\n",
      "        d.append(draw.Arc(60,-20,20,270,60,cw=True,\n",
      "                    stroke='blue', stroke_width=1, fill='black', fill_opacity=0.3))\n",
      "    \n",
      "        d.setPixelScale(2)  # Set number of pixels per geometry unit\n",
      "        #d.setRenderSize(400,200)  # Alternative to setPixelScale\n",
      "        d.saveSvg('example.svg')\n",
      "        d.savePng('example.png')\n",
      "    \n",
      "        # Display in iPython notebook\n",
      "        d.rasterize()  # Display as PNG\n",
      "        d  # Display as SVG\n",
      "    ```\n",
      "\n",
      "PACKAGE CONTENTS\n",
      "    animation\n",
      "    color\n",
      "    defs\n",
      "    drawing\n",
      "    elements\n",
      "    missing\n",
      "    raster\n",
      "    video\n",
      "    widgets (package)\n",
      "\n",
      "SUBMODULES\n",
      "    elementsModule\n",
      "\n",
      "FUNCTIONS\n",
      "    registerElement(name, elem)\n",
      "\n",
      "DATA\n",
      "    elementsDir = ['Animate', 'AnimateMotion', 'AnimateTransform', 'Arc', ...\n",
      "    k = '__spec__'\n",
      "\n",
      "FILE\n",
      "    /opt/homebrew/lib/python3.9/site-packages/drawSvg/__init__.py\n",
      "\n",
      "\n"
     ]
    }
   ],
   "source": [
    "help(draw)"
   ]
  },
  {
   "cell_type": "code",
   "execution_count": 224,
   "id": "f6c200bc-ab88-444a-9f8b-2303b6ee6b90",
   "metadata": {},
   "outputs": [
    {
     "name": "stdout",
     "output_type": "stream",
     "text": [
      "Help on class Path in module drawSvg.elements:\n",
      "\n",
      "class Path(DrawingBasicElement)\n",
      " |  Path(d='', **kwargs)\n",
      " |  \n",
      " |  An arbitrary path\n",
      " |  \n",
      " |  Path Supports building an SVG path by calling instance methods\n",
      " |  corresponding to path commands.\n",
      " |  \n",
      " |  Additional keyword arguments are output as additional properties to the\n",
      " |  SVG node e.g. fill=\"red\", stroke=\"#ff4477\", stroke_width=2.\n",
      " |  \n",
      " |  Method resolution order:\n",
      " |      Path\n",
      " |      DrawingBasicElement\n",
      " |      DrawingElement\n",
      " |      builtins.object\n",
      " |  \n",
      " |  Methods defined here:\n",
      " |  \n",
      " |  A(self, rx, ry, rot, largeArc, sweep, ex, ey)\n",
      " |  \n",
      " |  C(self, cx1, cy1, cx2, cy2, ex, ey)\n",
      " |  \n",
      " |  H(self, x)\n",
      " |  \n",
      " |  L(self, x, y)\n",
      " |  \n",
      " |  M(self, x, y)\n",
      " |  \n",
      " |  Q(self, cx, cy, ex, ey)\n",
      " |  \n",
      " |  S(self, cx2, cy2, ex, ey)\n",
      " |  \n",
      " |  T(self, ex, ey)\n",
      " |  \n",
      " |  V(self, y)\n",
      " |  \n",
      " |  Z(self)\n",
      " |  \n",
      " |  __init__(self, d='', **kwargs)\n",
      " |      Initialize self.  See help(type(self)) for accurate signature.\n",
      " |  \n",
      " |  a(self, rx, ry, rot, largeArc, sweep, ex, ey)\n",
      " |  \n",
      " |  append(self, commandStr, *args)\n",
      " |  \n",
      " |  arc(self, cx, cy, r, startDeg, endDeg, cw=False, includeM=True, includeL=False)\n",
      " |      Uses A() to draw a circular arc\n",
      " |  \n",
      " |  c(self, cx1, cy1, cx2, cy2, ex, ey)\n",
      " |  \n",
      " |  h(self, dx)\n",
      " |  \n",
      " |  l(self, dx, dy)\n",
      " |  \n",
      " |  m(self, dx, dy)\n",
      " |  \n",
      " |  q(self, cx, cy, ex, ey)\n",
      " |  \n",
      " |  s(self, cx2, cy2, ex, ey)\n",
      " |  \n",
      " |  t(self, ex, ey)\n",
      " |  \n",
      " |  v(self, dy)\n",
      " |  \n",
      " |  ----------------------------------------------------------------------\n",
      " |  Data and other attributes defined here:\n",
      " |  \n",
      " |  TAG_NAME = 'path'\n",
      " |  \n",
      " |  ----------------------------------------------------------------------\n",
      " |  Methods inherited from DrawingBasicElement:\n",
      " |  \n",
      " |  __eq__(self, other)\n",
      " |      Return self==value.\n",
      " |  \n",
      " |  allChildren(self)\n",
      " |      Returns self.children and self.orderedChildren as a single list.\n",
      " |  \n",
      " |  appendAnim(self, animateElement)\n",
      " |  \n",
      " |  appendTitle(self, text, **kwargs)\n",
      " |  \n",
      " |  checkChildrenAllowed(self)\n",
      " |  \n",
      " |  extendAnim(self, animateIterable)\n",
      " |  \n",
      " |  getSvgDefs(self)\n",
      " |  \n",
      " |  writeChildrenContent(self, idGen, isDuplicate, outputFile, dryRun)\n",
      " |      Override in a subclass to add data between the start and end\n",
      " |      tags.  This will not be called if hasContent is False.\n",
      " |  \n",
      " |  writeContent(self, idGen, isDuplicate, outputFile, dryRun)\n",
      " |      Override in a subclass to add data between the start and end\n",
      " |      tags.  This will not be called if hasContent is False.\n",
      " |  \n",
      " |  writeSvgDefs(self, idGen, isDuplicate, outputFile, dryRun)\n",
      " |  \n",
      " |  writeSvgElement(self, idGen, isDuplicate, outputFile, dryRun, forceDup=False)\n",
      " |  \n",
      " |  ----------------------------------------------------------------------\n",
      " |  Data descriptors inherited from DrawingBasicElement:\n",
      " |  \n",
      " |  id\n",
      " |  \n",
      " |  ----------------------------------------------------------------------\n",
      " |  Data and other attributes inherited from DrawingBasicElement:\n",
      " |  \n",
      " |  __hash__ = None\n",
      " |  \n",
      " |  hasContent = False\n",
      " |  \n",
      " |  ----------------------------------------------------------------------\n",
      " |  Methods inherited from DrawingElement:\n",
      " |  \n",
      " |  getLinkedElems(self)\n",
      " |  \n",
      " |  ----------------------------------------------------------------------\n",
      " |  Data descriptors inherited from DrawingElement:\n",
      " |  \n",
      " |  __dict__\n",
      " |      dictionary for instance variables (if defined)\n",
      " |  \n",
      " |  __weakref__\n",
      " |      list of weak references to the object (if defined)\n",
      "\n"
     ]
    }
   ],
   "source": [
    "help(draw.Path)"
   ]
  },
  {
   "cell_type": "code",
   "execution_count": null,
   "id": "452ab9e0-6b70-48bf-be25-05846fffbd25",
   "metadata": {},
   "outputs": [],
   "source": []
  }
 ],
 "metadata": {
  "kernelspec": {
   "display_name": "Python 3 (ipykernel)",
   "language": "python",
   "name": "python3"
  },
  "language_info": {
   "codemirror_mode": {
    "name": "ipython",
    "version": 3
   },
   "file_extension": ".py",
   "mimetype": "text/x-python",
   "name": "python",
   "nbconvert_exporter": "python",
   "pygments_lexer": "ipython3",
   "version": "3.9.10"
  }
 },
 "nbformat": 4,
 "nbformat_minor": 5
}
