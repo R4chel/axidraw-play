{
 "cells": [
  {
   "cell_type": "code",
   "execution_count": 80,
   "id": "86f10650-a888-4935-a76f-5d77afcb0cef",
   "metadata": {},
   "outputs": [],
   "source": [
    "import drawSvg as draw\n",
    "import random\n",
    "import math"
   ]
  },
  {
   "cell_type": "code",
   "execution_count": 81,
   "id": "de18f8ba-32a6-406c-826c-9ada78cb890a",
   "metadata": {},
   "outputs": [],
   "source": [
    "xMax= 500\n",
    "yMax = 500\n",
    "max_radius=100\n",
    "min_radius=5"
   ]
  },
  {
   "cell_type": "code",
   "execution_count": 82,
   "id": "80f91a21-42eb-4260-a35b-fffd2a6bdb56",
   "metadata": {},
   "outputs": [],
   "source": [
    "class Circle:\n",
    "    def __init__(self, x,y,r):\n",
    "        self.x = x\n",
    "        self.y = y\n",
    "        self.r = r\n",
    "    \n",
    "    def toSvg(self):\n",
    "        return draw.Circle(self.x,self.y,self.r, stroke_width=2,stroke='black', fill='none')"
   ]
  },
  {
   "cell_type": "code",
   "execution_count": 83,
   "id": "34c2610c-bf6b-472f-ba1b-52cad5358aaa",
   "metadata": {},
   "outputs": [],
   "source": [
    "def randomX():\n",
    "    return random.randrange(-1*xMax,xMax)\n",
    "def randomY():\n",
    "    return random.randrange(-1*yMax,yMax)"
   ]
  },
  {
   "cell_type": "code",
   "execution_count": 93,
   "id": "062793ac-c482-4f63-b6ee-79274c9a4226",
   "metadata": {},
   "outputs": [],
   "source": [
    "def maxRadius(circles, x, y):\n",
    "    r = max_radius\n",
    "    for c in circles:\n",
    "        dist = math.dist((x,y),(c.x,c.y))\n",
    "        r = min(dist - c.r, r)\n",
    "    return r"
   ]
  },
  {
   "cell_type": "code",
   "execution_count": 94,
   "id": "ccb3aa57-efb3-4d0d-b2b3-2cfd4943e23b",
   "metadata": {},
   "outputs": [],
   "source": [
    "def maybeAddCircle(circles):\n",
    "    x = randomX()\n",
    "    y = randomY()\n",
    "    r = maxRadius(circles, x, y)\n",
    "    if r > 5:\n",
    "        circles.append(Circle(x,y,r))"
   ]
  },
  {
   "cell_type": "code",
   "execution_count": 95,
   "id": "afe111c1-dc77-40dc-a895-6258120edac1",
   "metadata": {},
   "outputs": [],
   "source": [
    "maybeAddCircle(circles)"
   ]
  },
  {
   "cell_type": "code",
   "execution_count": 96,
   "id": "f7530d9a-342b-4290-8bea-f0dcc23ec4dd",
   "metadata": {},
   "outputs": [
    {
     "data": {
      "text/plain": [
       "11"
      ]
     },
     "execution_count": 96,
     "metadata": {},
     "output_type": "execute_result"
    }
   ],
   "source": [
    "len(circles)"
   ]
  },
  {
   "cell_type": "code",
   "execution_count": 74,
   "id": "239b71ce-69d8-4236-838b-6f1f34e77ead",
   "metadata": {},
   "outputs": [],
   "source": [
    "circles = []\n",
    "for i in rand"
   ]
  },
  {
   "cell_type": "code",
   "execution_count": 75,
   "id": "cab449cc-6bf0-4320-8e51-f5374a6b4a5b",
   "metadata": {},
   "outputs": [
    {
     "data": {
      "text/plain": [
       "[<__main__.Circle at 0x1116476a0>,\n",
       " <__main__.Circle at 0x111647520>,\n",
       " <__main__.Circle at 0x111647b50>,\n",
       " <__main__.Circle at 0x111647af0>,\n",
       " <__main__.Circle at 0x111647a00>,\n",
       " <__main__.Circle at 0x111647ac0>,\n",
       " <__main__.Circle at 0x1116475e0>,\n",
       " <__main__.Circle at 0x111647d30>,\n",
       " <__main__.Circle at 0x111647c10>,\n",
       " <__main__.Circle at 0x111647610>]"
      ]
     },
     "execution_count": 75,
     "metadata": {},
     "output_type": "execute_result"
    }
   ],
   "source": [
    "circles"
   ]
  },
  {
   "cell_type": "code",
   "execution_count": 76,
   "id": "2a1fd682-4738-438b-988a-7d795e5d9c45",
   "metadata": {},
   "outputs": [],
   "source": [
    "d = draw.Drawing(xMax*2, yMax*2, origin='center')\n",
    "for c in circles:\n",
    "    d.append(c.toSvg())"
   ]
  },
  {
   "cell_type": "code",
   "execution_count": 77,
   "id": "4669a388-d204-48cd-bf6f-b57202b2293e",
   "metadata": {},
   "outputs": [
    {
     "data": {
      "image/svg+xml": [
       "<?xml version=\"1.0\" encoding=\"UTF-8\"?>\n",
       "<svg xmlns=\"http://www.w3.org/2000/svg\" xmlns:xlink=\"http://www.w3.org/1999/xlink\"\n",
       "     width=\"1000\" height=\"1000\" viewBox=\"-500.0 -500.0 1000 1000\">\n",
       "<defs>\n",
       "</defs>\n",
       "<circle cx=\"-273\" cy=\"275\" r=\"9\" stroke-width=\"2\" stroke=\"black\" fill=\"none\" />\n",
       "<circle cx=\"-233\" cy=\"-146\" r=\"17\" stroke-width=\"2\" stroke=\"black\" fill=\"none\" />\n",
       "<circle cx=\"161\" cy=\"-390\" r=\"14\" stroke-width=\"2\" stroke=\"black\" fill=\"none\" />\n",
       "<circle cx=\"-442\" cy=\"443\" r=\"6\" stroke-width=\"2\" stroke=\"black\" fill=\"none\" />\n",
       "<circle cx=\"437\" cy=\"-105\" r=\"11\" stroke-width=\"2\" stroke=\"black\" fill=\"none\" />\n",
       "<circle cx=\"-124\" cy=\"119\" r=\"13\" stroke-width=\"2\" stroke=\"black\" fill=\"none\" />\n",
       "<circle cx=\"-86\" cy=\"-328\" r=\"15\" stroke-width=\"2\" stroke=\"black\" fill=\"none\" />\n",
       "<circle cx=\"-239\" cy=\"292\" r=\"12\" stroke-width=\"2\" stroke=\"black\" fill=\"none\" />\n",
       "<circle cx=\"-262\" cy=\"148\" r=\"16\" stroke-width=\"2\" stroke=\"black\" fill=\"none\" />\n",
       "<circle cx=\"102\" cy=\"-208\" r=\"5\" stroke-width=\"2\" stroke=\"black\" fill=\"none\" />\n",
       "</svg>"
      ],
      "text/plain": [
       "<drawSvg.drawing.Drawing at 0x1116332b0>"
      ]
     },
     "execution_count": 77,
     "metadata": {},
     "output_type": "execute_result"
    }
   ],
   "source": [
    "# Display in Jupyter notebook\n",
    "d.rasterize()  # Display as PNG\n",
    "d  # Display as SVG"
   ]
  },
  {
   "cell_type": "code",
   "execution_count": null,
   "id": "ddcfbc07-b47f-4eb2-82ee-60a274243495",
   "metadata": {},
   "outputs": [],
   "source": [
    "d.saveSvg('packed.svg')"
   ]
  }
 ],
 "metadata": {
  "kernelspec": {
   "display_name": "Python 3 (ipykernel)",
   "language": "python",
   "name": "python3"
  },
  "language_info": {
   "codemirror_mode": {
    "name": "ipython",
    "version": 3
   },
   "file_extension": ".py",
   "mimetype": "text/x-python",
   "name": "python",
   "nbconvert_exporter": "python",
   "pygments_lexer": "ipython3",
   "version": "3.9.10"
  }
 },
 "nbformat": 4,
 "nbformat_minor": 5
}
