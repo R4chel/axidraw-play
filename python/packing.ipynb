{
 "cells": [
  {
   "cell_type": "code",
   "execution_count": 1,
   "id": "86f10650-a888-4935-a76f-5d77afcb0cef",
   "metadata": {},
   "outputs": [],
   "source": [
    "import drawSvg as draw\n",
    "import random\n",
    "import math"
   ]
  },
  {
   "cell_type": "code",
   "execution_count": 2,
   "id": "de18f8ba-32a6-406c-826c-9ada78cb890a",
   "metadata": {},
   "outputs": [],
   "source": [
    "xMax= 250\n",
    "yMax = 250\n"
   ]
  },
  {
   "cell_type": "code",
   "execution_count": 13,
   "id": "80f91a21-42eb-4260-a35b-fffd2a6bdb56",
   "metadata": {},
   "outputs": [],
   "source": [
    "class Circle:\n",
    "    def __init__(self, x,y,r):\n",
    "        self.x = x\n",
    "        self.y = y\n",
    "        self.r = r\n",
    "    \n",
    "    def toSvg(self):\n",
    "        return draw.Circle(self.x,self.y,self.r, stroke_width=1,stroke='black', fill='none')\n",
    "    \n",
    "    def halfCircle(self):\n",
    "        return draw.Arc(self.x,self.y,self.r, 0, 180, stroke_width=1,stroke='black', fill='none')"
   ]
  },
  {
   "cell_type": "code",
   "execution_count": 20,
   "id": "2a112197-9fa7-4fc7-8ccc-15b2b7c5a4f0",
   "metadata": {},
   "outputs": [],
   "source": [
    "r = 20\n",
    "offset=False\n",
    "circles = []\n",
    "for y in range(-1*yMax, yMax, r*2):\n",
    "    for x in range(-1*xMax - (r if offset else 0), xMax, r):\n",
    "        circles.append(Circle(x,y,r))\n",
    "    offset = !offset\n"
   ]
  },
  {
   "cell_type": "code",
   "execution_count": null,
   "id": "34c2610c-bf6b-472f-ba1b-52cad5358aaa",
   "metadata": {},
   "outputs": [],
   "source": []
  },
  {
   "cell_type": "code",
   "execution_count": null,
   "id": "062793ac-c482-4f63-b6ee-79274c9a4226",
   "metadata": {},
   "outputs": [],
   "source": []
  },
  {
   "cell_type": "code",
   "execution_count": null,
   "id": "ccb3aa57-efb3-4d0d-b2b3-2cfd4943e23b",
   "metadata": {},
   "outputs": [],
   "source": []
  },
  {
   "cell_type": "code",
   "execution_count": 21,
   "id": "239b71ce-69d8-4236-838b-6f1f34e77ead",
   "metadata": {},
   "outputs": [],
   "source": [
    "circles = []\n",
    "for i in range(100):\n",
    "    maybeAddCircle(circles)"
   ]
  },
  {
   "cell_type": "code",
   "execution_count": 22,
   "id": "cab449cc-6bf0-4320-8e51-f5374a6b4a5b",
   "metadata": {},
   "outputs": [
    {
     "data": {
      "text/plain": [
       "35"
      ]
     },
     "execution_count": 22,
     "metadata": {},
     "output_type": "execute_result"
    }
   ],
   "source": [
    "len(circles)"
   ]
  },
  {
   "cell_type": "code",
   "execution_count": 23,
   "id": "2a1fd682-4738-438b-988a-7d795e5d9c45",
   "metadata": {},
   "outputs": [],
   "source": [
    "d = draw.Drawing(xMax*2, yMax*2, origin='center')\n",
    "for c in circles:\n",
    "    d.append(c.halfCircle())"
   ]
  },
  {
   "cell_type": "code",
   "execution_count": 24,
   "id": "4669a388-d204-48cd-bf6f-b57202b2293e",
   "metadata": {},
   "outputs": [
    {
     "data": {
      "image/svg+xml": [
       "<?xml version=\"1.0\" encoding=\"UTF-8\"?>\n",
       "<svg xmlns=\"http://www.w3.org/2000/svg\" xmlns:xlink=\"http://www.w3.org/1999/xlink\"\n",
       "     width=\"500\" height=\"500\" viewBox=\"-250.0 -250.0 500 500\">\n",
       "<defs>\n",
       "</defs>\n",
       "<path d=\"M232.0,160.0 A90,90,0,0,0,52.0,160.0\" stroke-width=\"1\" stroke=\"black\" fill=\"none\" />\n",
       "<path d=\"M250.0,-155.0 A28,28,0,0,0,194.0,-155.0\" stroke-width=\"1\" stroke=\"black\" fill=\"none\" />\n",
       "<path d=\"M245.82595525402783,-59.0 A86.82595525402783,86.82595525402783,0,0,0,72.17404474597217,-59.00000000000001\" stroke-width=\"1\" stroke=\"black\" fill=\"none\" />\n",
       "<path d=\"M-240.0,-244.0 A5,5,0,0,0,-250.0,-244.0\" stroke-width=\"1\" stroke=\"black\" fill=\"none\" />\n",
       "<path d=\"M-78.0,-100.0 A86,86,0,0,0,-250.0,-100.00000000000001\" stroke-width=\"1\" stroke=\"black\" fill=\"none\" />\n",
       "<path d=\"M129.84902644436053,-179.0 A66.84902644436053,66.84902644436053,0,0,0,-3.8490264443605327,-179.0\" stroke-width=\"1\" stroke=\"black\" fill=\"none\" />\n",
       "<path d=\"M162.3014395795891,-184.0 A16.3014395795891,16.3014395795891,0,0,0,129.6985604204109,-184.0\" stroke-width=\"1\" stroke=\"black\" fill=\"none\" />\n",
       "<path d=\"M-2.6343651773801753,87.0 A108.36563482261982,108.36563482261982,0,0,0,-219.36563482261982,86.99999999999999\" stroke-width=\"1\" stroke=\"black\" fill=\"none\" />\n",
       "<path d=\"M-126.7655864780575,-195.0 A12.2344135219425,12.2344135219425,0,0,0,-151.23441352194249,-195.0\" stroke-width=\"1\" stroke=\"black\" fill=\"none\" />\n",
       "<path d=\"M-48.163758258032146,-40.0 A23.836241741967854,23.836241741967854,0,0,0,-95.83624174196785,-40.0\" stroke-width=\"1\" stroke=\"black\" fill=\"none\" />\n",
       "<path d=\"M240.82080914154255,37.0 A24.82080914154254,24.82080914154254,0,0,0,191.17919085845745,37.0\" stroke-width=\"1\" stroke=\"black\" fill=\"none\" />\n",
       "<path d=\"M58.502830158453605,201.0 A42.502830158453605,42.502830158453605,0,0,0,-26.502830158453605,201.0\" stroke-width=\"1\" stroke=\"black\" fill=\"none\" />\n",
       "<path d=\"M-135.98099758485935,212.0 A27.019002415140648,27.019002415140648,0,0,0,-190.01900241514065,212.0\" stroke-width=\"1\" stroke=\"black\" fill=\"none\" />\n",
       "<path d=\"M223.60334722173695,102.0 A5.6033472217369535,5.6033472217369535,0,0,0,212.39665277826305,102.0\" stroke-width=\"1\" stroke=\"black\" fill=\"none\" />\n",
       "<path d=\"M10.195906033574445,-227.0 A22.195906033574445,22.195906033574445,0,0,0,-34.195906033574445,-227.0\" stroke-width=\"1\" stroke=\"black\" fill=\"none\" />\n",
       "<path d=\"M-176.0,243.0 A7,7,0,0,0,-190.0,243.0\" stroke-width=\"1\" stroke=\"black\" fill=\"none\" />\n",
       "<path d=\"M-127.24944979344016,238.0 A9.75055020655983,9.75055020655983,0,0,0,-146.75055020655984,238.0\" stroke-width=\"1\" stroke=\"black\" fill=\"none\" />\n",
       "<path d=\"M81.23817817080294,1.0 A54.23817817080294,54.23817817080294,0,0,0,-27.23817817080294,0.9999999999999933\" stroke-width=\"1\" stroke=\"black\" fill=\"none\" />\n",
       "<path d=\"M-70.37842129081564,-137.0 A7.621578709184362,7.621578709184362,0,0,0,-85.62157870918436,-137.0\" stroke-width=\"1\" stroke=\"black\" fill=\"none\" />\n",
       "<path d=\"M50.11095117704329,-69.0 A16.11095117704329,16.11095117704329,0,0,0,17.88904882295671,-69.0\" stroke-width=\"1\" stroke=\"black\" fill=\"none\" />\n",
       "<path d=\"M-176.03416370120945,-5.0 A10.965836298790549,10.965836298790549,0,0,0,-197.96583629879055,-5.000000000000002\" stroke-width=\"1\" stroke=\"black\" fill=\"none\" />\n",
       "<path d=\"M250.0,-195.0 A13,13,0,0,0,224.0,-195.0\" stroke-width=\"1\" stroke=\"black\" fill=\"none\" />\n",
       "<path d=\"M179.96020469880568,-223.0 A23.960204698805697,23.960204698805697,0,0,0,132.03979530119432,-223.0\" stroke-width=\"1\" stroke=\"black\" fill=\"none\" />\n",
       "<path d=\"M-99.0,-239.0 A11,11,0,0,0,-121.0,-239.0\" stroke-width=\"1\" stroke=\"black\" fill=\"none\" />\n",
       "<path d=\"M164.16967551989597,54.0 A16.16967551989599,16.16967551989599,0,0,0,131.83032448010403,54.0\" stroke-width=\"1\" stroke=\"black\" fill=\"none\" />\n",
       "<path d=\"M250.0,202.0 A4,4,0,0,0,242.0,202.0\" stroke-width=\"1\" stroke=\"black\" fill=\"none\" />\n",
       "<path d=\"M-200.0,184.0 A25,25,0,0,0,-250.0,184.0\" stroke-width=\"1\" stroke=\"black\" fill=\"none\" />\n",
       "<path d=\"M-234.0,40.0 A8,8,0,0,0,-250.0,40.0\" stroke-width=\"1\" stroke=\"black\" fill=\"none\" />\n",
       "<path d=\"M101.38568747804217,68.0 A20.385687478042172,20.385687478042172,0,0,0,60.61431252195783,68.0\" stroke-width=\"1\" stroke=\"black\" fill=\"none\" />\n",
       "<path d=\"M42.78959425067349,73.0 A17.78959425067349,17.78959425067349,0,0,0,7.210405749326512,73.0\" stroke-width=\"1\" stroke=\"black\" fill=\"none\" />\n",
       "<path d=\"M-196.55002944641774,225.0 A17.449970553582247,17.449970553582247,0,0,0,-231.44997055358226,225.0\" stroke-width=\"1\" stroke=\"black\" fill=\"none\" />\n",
       "<path d=\"M-200.6390581853732,23.0 A10.360941814626813,10.360941814626813,0,0,0,-221.3609418146268,23.0\" stroke-width=\"1\" stroke=\"black\" fill=\"none\" />\n",
       "<path d=\"M-217.8716638594994,149.0 A10.128336140500593,10.128336140500593,0,0,0,-238.1283361405006,149.0\" stroke-width=\"1\" stroke=\"black\" fill=\"none\" />\n",
       "<path d=\"M23.85153122833288,-90.0 A23.85153122833288,23.85153122833288,0,0,0,-23.85153122833288,-90.0\" stroke-width=\"1\" stroke=\"black\" fill=\"none\" />\n",
       "<path d=\"M0.4981446005610337,-151.0 A25.498144600561034,25.498144600561034,0,0,0,-50.498144600561034,-151.0\" stroke-width=\"1\" stroke=\"black\" fill=\"none\" />\n",
       "</svg>"
      ],
      "text/plain": [
       "<drawSvg.drawing.Drawing at 0x1073be070>"
      ]
     },
     "execution_count": 24,
     "metadata": {},
     "output_type": "execute_result"
    }
   ],
   "source": [
    "# Display in Jupyter notebook\n",
    "d.rasterize()  # Display as PNG\n",
    "d  # Display as SVG"
   ]
  },
  {
   "cell_type": "code",
   "execution_count": 19,
   "id": "ddcfbc07-b47f-4eb2-82ee-60a274243495",
   "metadata": {},
   "outputs": [],
   "source": [
    "d.saveSvg('shells.svg')"
   ]
  },
  {
   "cell_type": "code",
   "execution_count": null,
   "id": "f878c01e-af89-4500-9c20-970bba9bcb86",
   "metadata": {},
   "outputs": [],
   "source": []
  },
  {
   "cell_type": "code",
   "execution_count": null,
   "id": "452ab9e0-6b70-48bf-be25-05846fffbd25",
   "metadata": {},
   "outputs": [],
   "source": []
  }
 ],
 "metadata": {
  "kernelspec": {
   "display_name": "Python 3 (ipykernel)",
   "language": "python",
   "name": "python3"
  },
  "language_info": {
   "codemirror_mode": {
    "name": "ipython",
    "version": 3
   },
   "file_extension": ".py",
   "mimetype": "text/x-python",
   "name": "python",
   "nbconvert_exporter": "python",
   "pygments_lexer": "ipython3",
   "version": "3.9.10"
  }
 },
 "nbformat": 4,
 "nbformat_minor": 5
}
