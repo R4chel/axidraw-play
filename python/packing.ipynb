{
 "cells": [
  {
   "cell_type": "code",
   "execution_count": 141,
   "id": "86f10650-a888-4935-a76f-5d77afcb0cef",
   "metadata": {},
   "outputs": [],
   "source": [
    "import drawSvg as draw\n",
    "import random\n",
    "import math"
   ]
  },
  {
   "cell_type": "code",
   "execution_count": 177,
   "id": "de18f8ba-32a6-406c-826c-9ada78cb890a",
   "metadata": {},
   "outputs": [],
   "source": [
    "xMax= 250\n",
    "yMax = 250\n",
    "max_radius=200\n",
    "min_radius=10"
   ]
  },
  {
   "cell_type": "code",
   "execution_count": 178,
   "id": "80f91a21-42eb-4260-a35b-fffd2a6bdb56",
   "metadata": {},
   "outputs": [],
   "source": [
    "class Circle:\n",
    "    def __init__(self, x,y,r):\n",
    "        self.x = x\n",
    "        self.y = y\n",
    "        self.r = r\n",
    "    \n",
    "    def toSvg(self):\n",
    "        return draw.Circle(self.x,self.y,self.r, stroke_width=1,stroke='black', fill='none')\n",
    "    \n",
    "    def __repr__(self):\n",
    "        return str((self.x, self.y, self.r))\n",
    "    \n",
    "    def __cmp__(self, other):\n",
    "        return cmp((self.x, self.y, self.r), (other.x, other.y,other.r))\n",
    "    \n",
    "    def __lt__(self, other):\n",
    "        return ((self.x, self.y, self.r) < (other.x, other.y,other.r))"
   ]
  },
  {
   "cell_type": "code",
   "execution_count": 179,
   "id": "34c2610c-bf6b-472f-ba1b-52cad5358aaa",
   "metadata": {},
   "outputs": [],
   "source": [
    "def randomX():\n",
    "    return random.randrange(-1*xMax,xMax)\n",
    "def randomY():\n",
    "    return random.randrange(-1*yMax,yMax)"
   ]
  },
  {
   "cell_type": "code",
   "execution_count": 180,
   "id": "062793ac-c482-4f63-b6ee-79274c9a4226",
   "metadata": {},
   "outputs": [],
   "source": [
    "def maxRadius(circles, x, y):\n",
    "    r = max_radius\n",
    "    r = min([r, xMax-abs(x),yMax-abs(y)])\n",
    "    for c in circles:\n",
    "        dist = math.dist((x,y),(c.x,c.y))\n",
    "        r = min(dist - c.r, r)\n",
    "        if r < 0:\n",
    "            return -1\n",
    "    return r"
   ]
  },
  {
   "cell_type": "code",
   "execution_count": 181,
   "id": "ccb3aa57-efb3-4d0d-b2b3-2cfd4943e23b",
   "metadata": {},
   "outputs": [],
   "source": [
    "def maybeAddCircle(circles):\n",
    "    x = randomX()\n",
    "    y = randomY()\n",
    "    r = maxRadius(circles, x, y)\n",
    "    if r > min_radius:\n",
    "        circles.append(Circle(x,y,r))"
   ]
  },
  {
   "cell_type": "code",
   "execution_count": 182,
   "id": "239b71ce-69d8-4236-838b-6f1f34e77ead",
   "metadata": {},
   "outputs": [],
   "source": [
    "circles = []\n",
    "for i in range(10000):\n",
    "    maybeAddCircle(circles)"
   ]
  },
  {
   "cell_type": "code",
   "execution_count": 183,
   "id": "cab449cc-6bf0-4320-8e51-f5374a6b4a5b",
   "metadata": {},
   "outputs": [
    {
     "data": {
      "text/plain": [
       "100"
      ]
     },
     "execution_count": 183,
     "metadata": {},
     "output_type": "execute_result"
    }
   ],
   "source": [
    "len(circles)"
   ]
  },
  {
   "cell_type": "code",
   "execution_count": 184,
   "id": "dd0a5ace-2764-4b45-92e6-c014c124dff8",
   "metadata": {},
   "outputs": [
    {
     "name": "stdout",
     "output_type": "stream",
     "text": [
      "-91 160 90\n"
     ]
    }
   ],
   "source": [
    "print(circles[0].x,circles[0].y,circles[0].r)\n"
   ]
  },
  {
   "cell_type": "code",
   "execution_count": 185,
   "id": "f93accb6-a443-470c-be29-ce3572e0e57a",
   "metadata": {},
   "outputs": [
    {
     "name": "stdout",
     "output_type": "stream",
     "text": [
      "(-91, 160, 90)\n"
     ]
    }
   ],
   "source": [
    "print(circles[0])"
   ]
  },
  {
   "cell_type": "code",
   "execution_count": 186,
   "id": "2c665c00-0094-4eeb-b47a-a1425f8d9810",
   "metadata": {},
   "outputs": [],
   "source": [
    "\n",
    "circles.sort()"
   ]
  },
  {
   "cell_type": "code",
   "execution_count": 187,
   "id": "358eb3ac-877d-4e21-b789-b02ad40a02ae",
   "metadata": {},
   "outputs": [
    {
     "name": "stdout",
     "output_type": "stream",
     "text": [
      "-239 149 11\n"
     ]
    }
   ],
   "source": [
    "print(circles[0].x,circles[0].y,circles[0].r)"
   ]
  },
  {
   "cell_type": "code",
   "execution_count": 188,
   "id": "2a1fd682-4738-438b-988a-7d795e5d9c45",
   "metadata": {},
   "outputs": [],
   "source": [
    "d = draw.Drawing(xMax*2, yMax*2, origin='center')\n",
    "for c in circles:\n",
    "    d.append(c.toSvg())"
   ]
  },
  {
   "cell_type": "code",
   "execution_count": 189,
   "id": "4669a388-d204-48cd-bf6f-b57202b2293e",
   "metadata": {},
   "outputs": [
    {
     "data": {
      "image/svg+xml": [
       "<?xml version=\"1.0\" encoding=\"UTF-8\"?>\n",
       "<svg xmlns=\"http://www.w3.org/2000/svg\" xmlns:xlink=\"http://www.w3.org/1999/xlink\"\n",
       "     width=\"500\" height=\"500\" viewBox=\"-250.0 -250.0 500 500\">\n",
       "<defs>\n",
       "</defs>\n",
       "<circle cx=\"-239\" cy=\"-149\" r=\"11\" stroke-width=\"1\" stroke=\"black\" fill=\"none\" />\n",
       "<circle cx=\"-238\" cy=\"-53\" r=\"12\" stroke-width=\"1\" stroke=\"black\" fill=\"none\" />\n",
       "<circle cx=\"-238\" cy=\"-212\" r=\"12\" stroke-width=\"1\" stroke=\"black\" fill=\"none\" />\n",
       "<circle cx=\"-235\" cy=\"236\" r=\"14\" stroke-width=\"1\" stroke=\"black\" fill=\"none\" />\n",
       "<circle cx=\"-235\" cy=\"-84\" r=\"15\" stroke-width=\"1\" stroke=\"black\" fill=\"none\" />\n",
       "<circle cx=\"-233\" cy=\"137\" r=\"17\" stroke-width=\"1\" stroke=\"black\" fill=\"none\" />\n",
       "<circle cx=\"-233\" cy=\"-239\" r=\"11\" stroke-width=\"1\" stroke=\"black\" fill=\"none\" />\n",
       "<circle cx=\"-232\" cy=\"104\" r=\"11.099783621772268\" stroke-width=\"1\" stroke=\"black\" fill=\"none\" />\n",
       "<circle cx=\"-230\" cy=\"68\" r=\"14.663526164919794\" stroke-width=\"1\" stroke=\"black\" fill=\"none\" />\n",
       "<circle cx=\"-230\" cy=\"16\" r=\"20\" stroke-width=\"1\" stroke=\"black\" fill=\"none\" />\n",
       "<circle cx=\"-224\" cy=\"192\" r=\"18.357075894804353\" stroke-width=\"1\" stroke=\"black\" fill=\"none\" />\n",
       "<circle cx=\"-224\" cy=\"163\" r=\"10.513632984395208\" stroke-width=\"1\" stroke=\"black\" fill=\"none\" />\n",
       "<circle cx=\"-218\" cy=\"-25\" r=\"10.716144441368726\" stroke-width=\"1\" stroke=\"black\" fill=\"none\" />\n",
       "<circle cx=\"-218\" cy=\"-126\" r=\"20.144823004794873\" stroke-width=\"1\" stroke=\"black\" fill=\"none\" />\n",
       "<circle cx=\"-217\" cy=\"-162\" r=\"14.553864678361276\" stroke-width=\"1\" stroke=\"black\" fill=\"none\" />\n",
       "<circle cx=\"-217\" cy=\"-192\" r=\"15.301415746544592\" stroke-width=\"1\" stroke=\"black\" fill=\"none\" />\n",
       "<circle cx=\"-212\" cy=\"43\" r=\"11.752316467727368\" stroke-width=\"1\" stroke=\"black\" fill=\"none\" />\n",
       "<circle cx=\"-211\" cy=\"-217\" r=\"10.40850451782029\" stroke-width=\"1\" stroke=\"black\" fill=\"none\" />\n",
       "<circle cx=\"-205\" cy=\"235\" r=\"15\" stroke-width=\"1\" stroke=\"black\" fill=\"none\" />\n",
       "<circle cx=\"-204\" cy=\"150\" r=\"12.867386660793265\" stroke-width=\"1\" stroke=\"black\" fill=\"none\" />\n",
       "<circle cx=\"-194\" cy=\"-145\" r=\"10.46563272523306\" stroke-width=\"1\" stroke=\"black\" fill=\"none\" />\n",
       "<circle cx=\"-190\" cy=\"-186\" r=\"12.357217625334073\" stroke-width=\"1\" stroke=\"black\" fill=\"none\" />\n",
       "<circle cx=\"-187\" cy=\"-121\" r=\"11.255813931420288\" stroke-width=\"1\" stroke=\"black\" fill=\"none\" />\n",
       "<circle cx=\"-185\" cy=\"18\" r=\"25.044422518220827\" stroke-width=\"1\" stroke=\"black\" fill=\"none\" />\n",
       "<circle cx=\"-182\" cy=\"-230\" r=\"20\" stroke-width=\"1\" stroke=\"black\" fill=\"none\" />\n",
       "<circle cx=\"-181\" cy=\"-63\" r=\"42.32157798333574\" stroke-width=\"1\" stroke=\"black\" fill=\"none\" />\n",
       "<circle cx=\"-175\" cy=\"95\" r=\"46.60636856324177\" stroke-width=\"1\" stroke=\"black\" fill=\"none\" />\n",
       "<circle cx=\"-162\" cy=\"188\" r=\"43.77182237323191\" stroke-width=\"1\" stroke=\"black\" fill=\"none\" />\n",
       "<circle cx=\"-147\" cy=\"33\" r=\"15.808973913410163\" stroke-width=\"1\" stroke=\"black\" fill=\"none\" />\n",
       "<circle cx=\"-136\" cy=\"-15\" r=\"22.316922902884116\" stroke-width=\"1\" stroke=\"black\" fill=\"none\" />\n",
       "<circle cx=\"-132\" cy=\"239\" r=\"11\" stroke-width=\"1\" stroke=\"black\" fill=\"none\" />\n",
       "<circle cx=\"-126\" cy=\"140\" r=\"16.228177626768087\" stroke-width=\"1\" stroke=\"black\" fill=\"none\" />\n",
       "<circle cx=\"-118\" cy=\"103\" r=\"10.952297161390867\" stroke-width=\"1\" stroke=\"black\" fill=\"none\" />\n",
       "<circle cx=\"-112\" cy=\"67\" r=\"22.335636049330958\" stroke-width=\"1\" stroke=\"black\" fill=\"none\" />\n",
       "<circle cx=\"-110\" cy=\"172\" r=\"10.634059661709863\" stroke-width=\"1\" stroke=\"black\" fill=\"none\" />\n",
       "<circle cx=\"-108\" cy=\"20\" r=\"15.290488599523314\" stroke-width=\"1\" stroke=\"black\" fill=\"none\" />\n",
       "<circle cx=\"-104\" cy=\"119\" r=\"10.143405821074936\" stroke-width=\"1\" stroke=\"black\" fill=\"none\" />\n",
       "<circle cx=\"-101\" cy=\"-46\" r=\"24.437756007359724\" stroke-width=\"1\" stroke=\"black\" fill=\"none\" />\n",
       "<circle cx=\"-100\" cy=\"-9\" r=\"11.947316213299587\" stroke-width=\"1\" stroke=\"black\" fill=\"none\" />\n",
       "<circle cx=\"-96\" cy=\"142\" r=\"13.838415129977733\" stroke-width=\"1\" stroke=\"black\" fill=\"none\" />\n",
       "<circle cx=\"-96\" cy=\"98\" r=\"11.608731183966086\" stroke-width=\"1\" stroke=\"black\" fill=\"none\" />\n",
       "<circle cx=\"-91\" cy=\"-160\" r=\"90\" stroke-width=\"1\" stroke=\"black\" fill=\"none\" />\n",
       "<circle cx=\"-88\" cy=\"215\" r=\"35\" stroke-width=\"1\" stroke=\"black\" fill=\"none\" />\n",
       "<circle cx=\"-82\" cy=\"117\" r=\"11.947316213299587\" stroke-width=\"1\" stroke=\"black\" fill=\"none\" />\n",
       "<circle cx=\"-78\" cy=\"164\" r=\"14.586925677126061\" stroke-width=\"1\" stroke=\"black\" fill=\"none\" />\n",
       "<circle cx=\"-67\" cy=\"142\" r=\"10.009822075371627\" stroke-width=\"1\" stroke=\"black\" fill=\"none\" />\n",
       "<circle cx=\"-43\" cy=\"232\" r=\"13.104053883222775\" stroke-width=\"1\" stroke=\"black\" fill=\"none\" />\n",
       "<circle cx=\"-36\" cy=\"182\" r=\"23.594742682585377\" stroke-width=\"1\" stroke=\"black\" fill=\"none\" />\n",
       "<circle cx=\"-16\" cy=\"226\" r=\"14.55457948865589\" stroke-width=\"1\" stroke=\"black\" fill=\"none\" />\n",
       "<circle cx=\"-3\" cy=\"200\" r=\"10.336233360562641\" stroke-width=\"1\" stroke=\"black\" fill=\"none\" />\n",
       "<circle cx=\"-2\" cy=\"-232\" r=\"18\" stroke-width=\"1\" stroke=\"black\" fill=\"none\" />\n",
       "<circle cx=\"9\" cy=\"-132\" r=\"13.035764297799204\" stroke-width=\"1\" stroke=\"black\" fill=\"none\" />\n",
       "<circle cx=\"9\" cy=\"-195\" r=\"15.948100502085452\" stroke-width=\"1\" stroke=\"black\" fill=\"none\" />\n",
       "<circle cx=\"11\" cy=\"-157\" r=\"12.044108110169702\" stroke-width=\"1\" stroke=\"black\" fill=\"none\" />\n",
       "<circle cx=\"21\" cy=\"208\" r=\"14.961987920784395\" stroke-width=\"1\" stroke=\"black\" fill=\"none\" />\n",
       "<circle cx=\"23\" cy=\"236\" r=\"11.688261881227554\" stroke-width=\"1\" stroke=\"black\" fill=\"none\" />\n",
       "<circle cx=\"29\" cy=\"-170\" r=\"10.159495201004813\" stroke-width=\"1\" stroke=\"black\" fill=\"none\" />\n",
       "<circle cx=\"45\" cy=\"-208\" r=\"21.75211859894506\" stroke-width=\"1\" stroke=\"black\" fill=\"none\" />\n",
       "<circle cx=\"46\" cy=\"236\" r=\"11.311738118772446\" stroke-width=\"1\" stroke=\"black\" fill=\"none\" />\n",
       "<circle cx=\"55\" cy=\"207\" r=\"19.052714782605506\" stroke-width=\"1\" stroke=\"black\" fill=\"none\" />\n",
       "<circle cx=\"63\" cy=\"32\" r=\"156.13004692641653\" stroke-width=\"1\" stroke=\"black\" fill=\"none\" />\n",
       "<circle cx=\"63\" cy=\"-237\" r=\"11.47767617363214\" stroke-width=\"1\" stroke=\"black\" fill=\"none\" />\n",
       "<circle cx=\"74\" cy=\"-159\" r=\"35.186444783001974\" stroke-width=\"1\" stroke=\"black\" fill=\"none\" />\n",
       "<circle cx=\"78\" cy=\"-218\" r=\"12.729760700188272\" stroke-width=\"1\" stroke=\"black\" fill=\"none\" />\n",
       "<circle cx=\"93\" cy=\"-237\" r=\"11.47767617363214\" stroke-width=\"1\" stroke=\"black\" fill=\"none\" />\n",
       "<circle cx=\"95\" cy=\"-201\" r=\"11.047592083257278\" stroke-width=\"1\" stroke=\"black\" fill=\"none\" />\n",
       "<circle cx=\"107\" cy=\"216\" r=\"33.05769051975096\" stroke-width=\"1\" stroke=\"black\" fill=\"none\" />\n",
       "<circle cx=\"116\" cy=\"-178\" r=\"10.911277503462465\" stroke-width=\"1\" stroke=\"black\" fill=\"none\" />\n",
       "<circle cx=\"120\" cy=\"-157\" r=\"10.413589334626153\" stroke-width=\"1\" stroke=\"black\" fill=\"none\" />\n",
       "<circle cx=\"131\" cy=\"-138\" r=\"11.540909065473997\" stroke-width=\"1\" stroke=\"black\" fill=\"none\" />\n",
       "<circle cx=\"133\" cy=\"-219\" r=\"31\" stroke-width=\"1\" stroke=\"black\" fill=\"none\" />\n",
       "<circle cx=\"148\" cy=\"175\" r=\"10.224995077124817\" stroke-width=\"1\" stroke=\"black\" fill=\"none\" />\n",
       "<circle cx=\"152\" cy=\"-168\" r=\"23.42425929675111\" stroke-width=\"1\" stroke=\"black\" fill=\"none\" />\n",
       "<circle cx=\"156\" cy=\"205\" r=\"15.158767465286175\" stroke-width=\"1\" stroke=\"black\" fill=\"none\" />\n",
       "<circle cx=\"163\" cy=\"230\" r=\"10.802742506208165\" stroke-width=\"1\" stroke=\"black\" fill=\"none\" />\n",
       "<circle cx=\"173\" cy=\"-237\" r=\"12.863424398922618\" stroke-width=\"1\" stroke=\"black\" fill=\"none\" />\n",
       "<circle cx=\"182\" cy=\"-120\" r=\"33.17962749558851\" stroke-width=\"1\" stroke=\"black\" fill=\"none\" />\n",
       "<circle cx=\"195\" cy=\"177\" r=\"32.85164807134504\" stroke-width=\"1\" stroke=\"black\" fill=\"none\" />\n",
       "<circle cx=\"195\" cy=\"-166\" r=\"14.003361349835714\" stroke-width=\"1\" stroke=\"black\" fill=\"none\" />\n",
       "<circle cx=\"197\" cy=\"-76\" r=\"13.060550509633075\" stroke-width=\"1\" stroke=\"black\" fill=\"none\" />\n",
       "<circle cx=\"198\" cy=\"-202\" r=\"22.12142238654117\" stroke-width=\"1\" stroke=\"black\" fill=\"none\" />\n",
       "<circle cx=\"209\" cy=\"229\" r=\"21\" stroke-width=\"1\" stroke=\"black\" fill=\"none\" />\n",
       "<circle cx=\"211\" cy=\"120\" r=\"16.055899073830574\" stroke-width=\"1\" stroke=\"black\" fill=\"none\" />\n",
       "<circle cx=\"211\" cy=\"-237\" r=\"13\" stroke-width=\"1\" stroke=\"black\" fill=\"none\" />\n",
       "<circle cx=\"216\" cy=\"-33\" r=\"10.104726812413446\" stroke-width=\"1\" stroke=\"black\" fill=\"none\" />\n",
       "<circle cx=\"219\" cy=\"-174\" r=\"11.294859931511322\" stroke-width=\"1\" stroke=\"black\" fill=\"none\" />\n",
       "<circle cx=\"221\" cy=\"94\" r=\"11.800877480537665\" stroke-width=\"1\" stroke=\"black\" fill=\"none\" />\n",
       "<circle cx=\"227\" cy=\"-125\" r=\"12.097298195098574\" stroke-width=\"1\" stroke=\"black\" fill=\"none\" />\n",
       "<circle cx=\"230\" cy=\"-74\" r=\"20\" stroke-width=\"1\" stroke=\"black\" fill=\"none\" />\n",
       "<circle cx=\"231\" cy=\"202\" r=\"10.977565930277208\" stroke-width=\"1\" stroke=\"black\" fill=\"none\" />\n",
       "<circle cx=\"233\" cy=\"72\" r=\"12.317977802344327\" stroke-width=\"1\" stroke=\"black\" fill=\"none\" />\n",
       "<circle cx=\"234\" cy=\"9\" r=\"16\" stroke-width=\"1\" stroke=\"black\" fill=\"none\" />\n",
       "<circle cx=\"234\" cy=\"-104\" r=\"10.038645426080084\" stroke-width=\"1\" stroke=\"black\" fill=\"none\" />\n",
       "<circle cx=\"235\" cy=\"-205\" r=\"15\" stroke-width=\"1\" stroke=\"black\" fill=\"none\" />\n",
       "<circle cx=\"236\" cy=\"148\" r=\"14\" stroke-width=\"1\" stroke=\"black\" fill=\"none\" />\n",
       "<circle cx=\"236\" cy=\"-23\" r=\"12.255952962584452\" stroke-width=\"1\" stroke=\"black\" fill=\"none\" />\n",
       "<circle cx=\"236\" cy=\"-152\" r=\"14\" stroke-width=\"1\" stroke=\"black\" fill=\"none\" />\n",
       "<circle cx=\"237\" cy=\"111\" r=\"11.457733910564635\" stroke-width=\"1\" stroke=\"black\" fill=\"none\" />\n",
       "<circle cx=\"237\" cy=\"47\" r=\"13\" stroke-width=\"1\" stroke=\"black\" fill=\"none\" />\n",
       "<circle cx=\"238\" cy=\"179\" r=\"10.194838428716736\" stroke-width=\"1\" stroke=\"black\" fill=\"none\" />\n",
       "</svg>"
      ],
      "text/plain": [
       "<drawSvg.drawing.Drawing at 0x1078f2f10>"
      ]
     },
     "execution_count": 189,
     "metadata": {},
     "output_type": "execute_result"
    }
   ],
   "source": [
    "# Display in Jupyter notebook\n",
    "d.rasterize()  # Display as PNG\n",
    "d  # Display as SVG"
   ]
  },
  {
   "cell_type": "code",
   "execution_count": 190,
   "id": "ddcfbc07-b47f-4eb2-82ee-60a274243495",
   "metadata": {},
   "outputs": [],
   "source": [
    "d.saveSvg('packed.svg')"
   ]
  },
  {
   "cell_type": "code",
   "execution_count": null,
   "id": "f878c01e-af89-4500-9c20-970bba9bcb86",
   "metadata": {},
   "outputs": [],
   "source": []
  },
  {
   "cell_type": "code",
   "execution_count": 191,
   "id": "91d33c39-b533-4d88-a09f-54e1be46423e",
   "metadata": {},
   "outputs": [
    {
     "name": "stdout",
     "output_type": "stream",
     "text": [
      "Help on package drawSvg:\n",
      "\n",
      "NAME\n",
      "    drawSvg\n",
      "\n",
      "DESCRIPTION\n",
      "    A library for creating SVG files or just drawings that can be displayed in\n",
      "    iPython notebooks\n",
      "    \n",
      "    Example:\n",
      "    ```\n",
      "        d = draw.Drawing(200, 100, origin='center')\n",
      "    \n",
      "        d.append(draw.Lines(-80, -45,\n",
      "                            70, -49,\n",
      "                            95, 49,\n",
      "                            -90, 40,\n",
      "                            close=False,\n",
      "                    fill='#eeee00',\n",
      "                    stroke='black'))\n",
      "    \n",
      "        d.append(draw.Rectangle(0,0,40,50, fill='#1248ff'))\n",
      "        d.append(draw.Circle(-40, -10, 30,\n",
      "                    fill='red', stroke_width=2, stroke='black'))\n",
      "    \n",
      "        p = draw.Path(stroke_width=2, stroke='green',\n",
      "                      fill='black', fill_opacity=0.5)\n",
      "        p.M(-30,5)  # Start path at point (-30, 5)\n",
      "        p.l(60,30)  # Draw line to (60, 30)\n",
      "        p.h(-70)    # Draw horizontal line to x=-70\n",
      "        p.Z()       # Draw line to start\n",
      "        d.append(p)\n",
      "    \n",
      "        d.append(draw.ArcLine(60,-20,20,60,270,\n",
      "                    stroke='red', stroke_width=5, fill='red', fill_opacity=0.2))\n",
      "        d.append(draw.Arc(60,-20,20,60,270,cw=False,\n",
      "                    stroke='green', stroke_width=3, fill='none'))\n",
      "        d.append(draw.Arc(60,-20,20,270,60,cw=True,\n",
      "                    stroke='blue', stroke_width=1, fill='black', fill_opacity=0.3))\n",
      "    \n",
      "        d.setPixelScale(2)  # Set number of pixels per geometry unit\n",
      "        #d.setRenderSize(400,200)  # Alternative to setPixelScale\n",
      "        d.saveSvg('example.svg')\n",
      "        d.savePng('example.png')\n",
      "    \n",
      "        # Display in iPython notebook\n",
      "        d.rasterize()  # Display as PNG\n",
      "        d  # Display as SVG\n",
      "    ```\n",
      "\n",
      "PACKAGE CONTENTS\n",
      "    animation\n",
      "    color\n",
      "    defs\n",
      "    drawing\n",
      "    elements\n",
      "    missing\n",
      "    raster\n",
      "    video\n",
      "    widgets (package)\n",
      "\n",
      "SUBMODULES\n",
      "    elementsModule\n",
      "\n",
      "FUNCTIONS\n",
      "    registerElement(name, elem)\n",
      "\n",
      "DATA\n",
      "    elementsDir = ['Animate', 'AnimateMotion', 'AnimateTransform', 'Arc', ...\n",
      "    k = '__spec__'\n",
      "\n",
      "FILE\n",
      "    /opt/homebrew/lib/python3.9/site-packages/drawSvg/__init__.py\n",
      "\n",
      "\n"
     ]
    }
   ],
   "source": [
    "help(draw)"
   ]
  },
  {
   "cell_type": "code",
   "execution_count": 192,
   "id": "f6c200bc-ab88-444a-9f8b-2303b6ee6b90",
   "metadata": {},
   "outputs": [
    {
     "name": "stdout",
     "output_type": "stream",
     "text": [
      "Help on class Path in module drawSvg.elements:\n",
      "\n",
      "class Path(DrawingBasicElement)\n",
      " |  Path(d='', **kwargs)\n",
      " |  \n",
      " |  An arbitrary path\n",
      " |  \n",
      " |  Path Supports building an SVG path by calling instance methods\n",
      " |  corresponding to path commands.\n",
      " |  \n",
      " |  Additional keyword arguments are output as additional properties to the\n",
      " |  SVG node e.g. fill=\"red\", stroke=\"#ff4477\", stroke_width=2.\n",
      " |  \n",
      " |  Method resolution order:\n",
      " |      Path\n",
      " |      DrawingBasicElement\n",
      " |      DrawingElement\n",
      " |      builtins.object\n",
      " |  \n",
      " |  Methods defined here:\n",
      " |  \n",
      " |  A(self, rx, ry, rot, largeArc, sweep, ex, ey)\n",
      " |  \n",
      " |  C(self, cx1, cy1, cx2, cy2, ex, ey)\n",
      " |  \n",
      " |  H(self, x)\n",
      " |  \n",
      " |  L(self, x, y)\n",
      " |  \n",
      " |  M(self, x, y)\n",
      " |  \n",
      " |  Q(self, cx, cy, ex, ey)\n",
      " |  \n",
      " |  S(self, cx2, cy2, ex, ey)\n",
      " |  \n",
      " |  T(self, ex, ey)\n",
      " |  \n",
      " |  V(self, y)\n",
      " |  \n",
      " |  Z(self)\n",
      " |  \n",
      " |  __init__(self, d='', **kwargs)\n",
      " |      Initialize self.  See help(type(self)) for accurate signature.\n",
      " |  \n",
      " |  a(self, rx, ry, rot, largeArc, sweep, ex, ey)\n",
      " |  \n",
      " |  append(self, commandStr, *args)\n",
      " |  \n",
      " |  arc(self, cx, cy, r, startDeg, endDeg, cw=False, includeM=True, includeL=False)\n",
      " |      Uses A() to draw a circular arc\n",
      " |  \n",
      " |  c(self, cx1, cy1, cx2, cy2, ex, ey)\n",
      " |  \n",
      " |  h(self, dx)\n",
      " |  \n",
      " |  l(self, dx, dy)\n",
      " |  \n",
      " |  m(self, dx, dy)\n",
      " |  \n",
      " |  q(self, cx, cy, ex, ey)\n",
      " |  \n",
      " |  s(self, cx2, cy2, ex, ey)\n",
      " |  \n",
      " |  t(self, ex, ey)\n",
      " |  \n",
      " |  v(self, dy)\n",
      " |  \n",
      " |  ----------------------------------------------------------------------\n",
      " |  Data and other attributes defined here:\n",
      " |  \n",
      " |  TAG_NAME = 'path'\n",
      " |  \n",
      " |  ----------------------------------------------------------------------\n",
      " |  Methods inherited from DrawingBasicElement:\n",
      " |  \n",
      " |  __eq__(self, other)\n",
      " |      Return self==value.\n",
      " |  \n",
      " |  allChildren(self)\n",
      " |      Returns self.children and self.orderedChildren as a single list.\n",
      " |  \n",
      " |  appendAnim(self, animateElement)\n",
      " |  \n",
      " |  appendTitle(self, text, **kwargs)\n",
      " |  \n",
      " |  checkChildrenAllowed(self)\n",
      " |  \n",
      " |  extendAnim(self, animateIterable)\n",
      " |  \n",
      " |  getSvgDefs(self)\n",
      " |  \n",
      " |  writeChildrenContent(self, idGen, isDuplicate, outputFile, dryRun)\n",
      " |      Override in a subclass to add data between the start and end\n",
      " |      tags.  This will not be called if hasContent is False.\n",
      " |  \n",
      " |  writeContent(self, idGen, isDuplicate, outputFile, dryRun)\n",
      " |      Override in a subclass to add data between the start and end\n",
      " |      tags.  This will not be called if hasContent is False.\n",
      " |  \n",
      " |  writeSvgDefs(self, idGen, isDuplicate, outputFile, dryRun)\n",
      " |  \n",
      " |  writeSvgElement(self, idGen, isDuplicate, outputFile, dryRun, forceDup=False)\n",
      " |  \n",
      " |  ----------------------------------------------------------------------\n",
      " |  Data descriptors inherited from DrawingBasicElement:\n",
      " |  \n",
      " |  id\n",
      " |  \n",
      " |  ----------------------------------------------------------------------\n",
      " |  Data and other attributes inherited from DrawingBasicElement:\n",
      " |  \n",
      " |  __hash__ = None\n",
      " |  \n",
      " |  hasContent = False\n",
      " |  \n",
      " |  ----------------------------------------------------------------------\n",
      " |  Methods inherited from DrawingElement:\n",
      " |  \n",
      " |  getLinkedElems(self)\n",
      " |  \n",
      " |  ----------------------------------------------------------------------\n",
      " |  Data descriptors inherited from DrawingElement:\n",
      " |  \n",
      " |  __dict__\n",
      " |      dictionary for instance variables (if defined)\n",
      " |  \n",
      " |  __weakref__\n",
      " |      list of weak references to the object (if defined)\n",
      "\n"
     ]
    }
   ],
   "source": [
    "help(draw.Path)"
   ]
  },
  {
   "cell_type": "code",
   "execution_count": null,
   "id": "452ab9e0-6b70-48bf-be25-05846fffbd25",
   "metadata": {},
   "outputs": [],
   "source": []
  }
 ],
 "metadata": {
  "kernelspec": {
   "display_name": "Python 3 (ipykernel)",
   "language": "python",
   "name": "python3"
  },
  "language_info": {
   "codemirror_mode": {
    "name": "ipython",
    "version": 3
   },
   "file_extension": ".py",
   "mimetype": "text/x-python",
   "name": "python",
   "nbconvert_exporter": "python",
   "pygments_lexer": "ipython3",
   "version": "3.9.10"
  }
 },
 "nbformat": 4,
 "nbformat_minor": 5
}
