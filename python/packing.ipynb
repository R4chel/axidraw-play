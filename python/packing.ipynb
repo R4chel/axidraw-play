{
 "cells": [
  {
   "cell_type": "code",
   "execution_count": 11,
   "id": "86f10650-a888-4935-a76f-5d77afcb0cef",
   "metadata": {},
   "outputs": [],
   "source": [
    "import drawSvg as draw\n",
    "import random"
   ]
  },
  {
   "cell_type": "code",
   "execution_count": 36,
   "id": "de18f8ba-32a6-406c-826c-9ada78cb890a",
   "metadata": {},
   "outputs": [],
   "source": [
    "xMax= 250\n",
    "yMax = 250\n"
   ]
  },
  {
   "cell_type": "code",
   "execution_count": 45,
   "id": "80f91a21-42eb-4260-a35b-fffd2a6bdb56",
   "metadata": {},
   "outputs": [],
   "source": [
    "class Circle:\n",
    "    def __init__(self, x,y,r):\n",
    "        self.x = x\n",
    "        self.y = y\n",
    "        self.r = r\n",
    "    \n",
    "    def toSvg(self):\n",
    "        return draw.Circle(self.x,self.y,self.r, stroke_width=2,stroke='black', fill='none')"
   ]
  },
  {
   "cell_type": "code",
   "execution_count": 46,
   "id": "34c2610c-bf6b-472f-ba1b-52cad5358aaa",
   "metadata": {},
   "outputs": [],
   "source": [
    "def randomX():\n",
    "    return random.randrange(-1*xMax,xMax)\n",
    "def randomY():\n",
    "    return random.randrange(-1*yMax,yMax)"
   ]
  },
  {
   "cell_type": "code",
   "execution_count": 47,
   "id": "062793ac-c482-4f63-b6ee-79274c9a4226",
   "metadata": {},
   "outputs": [
    {
     "data": {
      "text/plain": [
       "241"
      ]
     },
     "execution_count": 47,
     "metadata": {},
     "output_type": "execute_result"
    }
   ],
   "source": [
    "randomX()"
   ]
  },
  {
   "cell_type": "code",
   "execution_count": 48,
   "id": "239b71ce-69d8-4236-838b-6f1f34e77ead",
   "metadata": {},
   "outputs": [],
   "source": [
    "circles = [ Circle(randomX(),randomY(), random.randrange(5,20)) for _ in range(10) ]"
   ]
  },
  {
   "cell_type": "code",
   "execution_count": 49,
   "id": "cab449cc-6bf0-4320-8e51-f5374a6b4a5b",
   "metadata": {},
   "outputs": [
    {
     "data": {
      "text/plain": [
       "[<__main__.Circle at 0x1115fa460>,\n",
       " <__main__.Circle at 0x1115fa0a0>,\n",
       " <__main__.Circle at 0x1115fa0d0>,\n",
       " <__main__.Circle at 0x1115faf10>,\n",
       " <__main__.Circle at 0x1115fa2e0>,\n",
       " <__main__.Circle at 0x1115fab20>,\n",
       " <__main__.Circle at 0x1115fa850>,\n",
       " <__main__.Circle at 0x1115fa940>,\n",
       " <__main__.Circle at 0x1115fa1f0>,\n",
       " <__main__.Circle at 0x1115fae80>]"
      ]
     },
     "execution_count": 49,
     "metadata": {},
     "output_type": "execute_result"
    }
   ],
   "source": [
    "circles"
   ]
  },
  {
   "cell_type": "code",
   "execution_count": 50,
   "id": "2a1fd682-4738-438b-988a-7d795e5d9c45",
   "metadata": {},
   "outputs": [],
   "source": [
    "d = draw.Drawing(xMax*2, yMax*2, origin='center')\n"
   ]
  },
  {
   "cell_type": "code",
   "execution_count": 51,
   "id": "5345db68-25d5-46ce-ae5e-ae924f1bd486",
   "metadata": {},
   "outputs": [],
   "source": [
    "for c in circles:\n",
    "    d.append(c.toSvg())"
   ]
  },
  {
   "cell_type": "code",
   "execution_count": 52,
   "id": "4669a388-d204-48cd-bf6f-b57202b2293e",
   "metadata": {},
   "outputs": [
    {
     "data": {
      "image/svg+xml": [
       "<?xml version=\"1.0\" encoding=\"UTF-8\"?>\n",
       "<svg xmlns=\"http://www.w3.org/2000/svg\" xmlns:xlink=\"http://www.w3.org/1999/xlink\"\n",
       "     width=\"500\" height=\"500\" viewBox=\"-250.0 -250.0 500 500\">\n",
       "<defs>\n",
       "</defs>\n",
       "<circle cx=\"141\" cy=\"145\" r=\"17\" stroke-width=\"2\" stroke=\"black\" fill=\"none\" />\n",
       "<circle cx=\"-140\" cy=\"7\" r=\"18\" stroke-width=\"2\" stroke=\"black\" fill=\"none\" />\n",
       "<circle cx=\"-2\" cy=\"-131\" r=\"9\" stroke-width=\"2\" stroke=\"black\" fill=\"none\" />\n",
       "<circle cx=\"170\" cy=\"232\" r=\"13\" stroke-width=\"2\" stroke=\"black\" fill=\"none\" />\n",
       "<circle cx=\"227\" cy=\"-69\" r=\"14\" stroke-width=\"2\" stroke=\"black\" fill=\"none\" />\n",
       "<circle cx=\"90\" cy=\"24\" r=\"13\" stroke-width=\"2\" stroke=\"black\" fill=\"none\" />\n",
       "<circle cx=\"44\" cy=\"57\" r=\"5\" stroke-width=\"2\" stroke=\"black\" fill=\"none\" />\n",
       "<circle cx=\"8\" cy=\"18\" r=\"19\" stroke-width=\"2\" stroke=\"black\" fill=\"none\" />\n",
       "<circle cx=\"-25\" cy=\"-221\" r=\"19\" stroke-width=\"2\" stroke=\"black\" fill=\"none\" />\n",
       "<circle cx=\"-9\" cy=\"121\" r=\"12\" stroke-width=\"2\" stroke=\"black\" fill=\"none\" />\n",
       "</svg>"
      ],
      "text/plain": [
       "<drawSvg.drawing.Drawing at 0x111620fd0>"
      ]
     },
     "execution_count": 52,
     "metadata": {},
     "output_type": "execute_result"
    }
   ],
   "source": [
    "# Display in Jupyter notebook\n",
    "d.rasterize()  # Display as PNG\n",
    "d  # Display as SVG"
   ]
  },
  {
   "cell_type": "code",
   "execution_count": null,
   "id": "ddcfbc07-b47f-4eb2-82ee-60a274243495",
   "metadata": {},
   "outputs": [],
   "source": [
    "d.saveSvg('packed.svg')"
   ]
  }
 ],
 "metadata": {
  "kernelspec": {
   "display_name": "Python 3 (ipykernel)",
   "language": "python",
   "name": "python3"
  },
  "language_info": {
   "codemirror_mode": {
    "name": "ipython",
    "version": 3
   },
   "file_extension": ".py",
   "mimetype": "text/x-python",
   "name": "python",
   "nbconvert_exporter": "python",
   "pygments_lexer": "ipython3",
   "version": "3.9.10"
  }
 },
 "nbformat": 4,
 "nbformat_minor": 5
}
